{
 "cells": [
  {
   "cell_type": "code",
   "execution_count": 27,
   "metadata": {},
   "outputs": [],
   "source": [
    "import pandas as pd\n",
    "import numpy as np\n",
    "import os\n",
    "\n",
    "def filepath(f):\n",
    "    d = os.path.join(os.getcwd(), 'data', 'fraud_detection_data', f)\n",
    "    return d    \n",
    "\n",
    "#Import training datasets\n",
    "train_label=pd.read_csv(filepath(\"Train.csv\"))\n",
    "train_beneficiary=pd.read_csv(filepath(\"Train_Beneficiarydata.csv\"))\n",
    "train_inpatient=pd.read_csv(filepath(\"Train_Inpatientdata.csv\"))\n",
    "train_outpatient=pd.read_csv(filepath(\"Train_Outpatientdata.csv\"))"
   ]
  },
  {
   "cell_type": "code",
   "execution_count": 28,
   "metadata": {},
   "outputs": [],
   "source": [
    "train_label = train_label.replace({\"PotentialFraud\": \"No\"}, 0)\n",
    "train_label = train_label.replace({\"PotentialFraud\": \"Yes\"}, 1)"
   ]
  },
  {
   "cell_type": "code",
   "execution_count": 29,
   "metadata": {},
   "outputs": [],
   "source": [
    "##Replacing 2 with 0 for chronic conditions ,that means chroniv condition No is 0 and yes is 1\n",
    "train_beneficiary = train_beneficiary.replace({'ChronicCond_Alzheimer': 2, 'ChronicCond_Heartfailure': 2, 'ChronicCond_KidneyDisease': 2,\n",
    "                           'ChronicCond_Cancer': 2, 'ChronicCond_ObstrPulmonary': 2, 'ChronicCond_Depression': 2, \n",
    "                           'ChronicCond_Diabetes': 2, 'ChronicCond_IschemicHeart': 2, 'ChronicCond_Osteoporasis': 2, \n",
    "                           'ChronicCond_rheumatoidarthritis': 2, 'ChronicCond_stroke': 2 }, 0)\n",
    "\n",
    "train_beneficiary = train_beneficiary.replace({'RenalDiseaseIndicator': 'Y'}, 1)"
   ]
  },
  {
   "cell_type": "code",
   "execution_count": 30,
   "metadata": {},
   "outputs": [
    {
     "name": "stderr",
     "output_type": "stream",
     "text": [
      "C:\\Users\\aengu\\AppData\\Local\\Packages\\PythonSoftwareFoundation.Python.3.8_qbz5n2kfra8p0\\LocalCache\\local-packages\\Python38\\site-packages\\pandas\\core\\reshape\\merge.py:1213: RuntimeWarning: invalid value encountered in cast\n",
      "  if not (rk == rk.astype(lk.dtype))[~np.isnan(rk)].all():\n"
     ]
    }
   ],
   "source": [
    "# Combine training datasets \n",
    "train_inpatient['inpatient'] = 1\n",
    "train_outpatient['inpatient'] = 0\n",
    "train=pd.merge(train_outpatient,train_inpatient,\n",
    "                              left_on=['BeneID', 'ClaimID', 'ClaimStartDt', 'ClaimEndDt', 'Provider',\n",
    "       'InscClaimAmtReimbursed', 'AttendingPhysician', 'OperatingPhysician',\n",
    "       'OtherPhysician', 'ClmDiagnosisCode_1', 'ClmDiagnosisCode_2',\n",
    "       'ClmDiagnosisCode_3', 'ClmDiagnosisCode_4', 'ClmDiagnosisCode_5',\n",
    "       'ClmDiagnosisCode_6', 'ClmDiagnosisCode_7', 'ClmDiagnosisCode_8',\n",
    "       'ClmDiagnosisCode_9', 'ClmDiagnosisCode_10', 'ClmProcedureCode_1',\n",
    "       'ClmProcedureCode_2', 'ClmProcedureCode_3', 'ClmProcedureCode_4',\n",
    "       'ClmProcedureCode_5', 'ClmProcedureCode_6', 'DeductibleAmtPaid',\n",
    "       'ClmAdmitDiagnosisCode','inpatient'],\n",
    "                              right_on=['BeneID', 'ClaimID', 'ClaimStartDt', 'ClaimEndDt', 'Provider',\n",
    "       'InscClaimAmtReimbursed', 'AttendingPhysician', 'OperatingPhysician',\n",
    "       'OtherPhysician', 'ClmDiagnosisCode_1', 'ClmDiagnosisCode_2',\n",
    "       'ClmDiagnosisCode_3', 'ClmDiagnosisCode_4', 'ClmDiagnosisCode_5',\n",
    "       'ClmDiagnosisCode_6', 'ClmDiagnosisCode_7', 'ClmDiagnosisCode_8',\n",
    "       'ClmDiagnosisCode_9', 'ClmDiagnosisCode_10', 'ClmProcedureCode_1',\n",
    "       'ClmProcedureCode_2', 'ClmProcedureCode_3', 'ClmProcedureCode_4',\n",
    "       'ClmProcedureCode_5', 'ClmProcedureCode_6', 'DeductibleAmtPaid',\n",
    "       'ClmAdmitDiagnosisCode','inpatient']\n",
    "                              ,how='outer')\n",
    "\n",
    "train_alldata=pd.merge(train,train_beneficiary,left_on='BeneID',right_on='BeneID',how='inner')"
   ]
  },
  {
   "cell_type": "code",
   "execution_count": 31,
   "metadata": {},
   "outputs": [
    {
     "name": "stdout",
     "output_type": "stream",
     "text": [
      "ClmProcedureCode_6 dropped as it is a constant.\n"
     ]
    }
   ],
   "source": [
    "# Drop constant columns\n",
    "for col in train_alldata.columns:\n",
    "    if train_alldata[col].nunique() <= 1:\n",
    "        train_alldata.drop([col], inplace=True, axis=1)\n",
    "        print(col, \"dropped as it is a constant.\")"
   ]
  },
  {
   "cell_type": "code",
   "execution_count": 32,
   "metadata": {},
   "outputs": [],
   "source": [
    "#Merging with Provider\n",
    "train_allprovider=pd.merge(train_label,train_alldata,on='Provider')"
   ]
  },
  {
   "cell_type": "code",
   "execution_count": 33,
   "metadata": {},
   "outputs": [
    {
     "data": {
      "text/plain": [
       "Timestamp('2009-12-31 00:00:00')"
      ]
     },
     "execution_count": 33,
     "metadata": {},
     "output_type": "execute_result"
    }
   ],
   "source": [
    "# Process datetime columns -- Get age of claimant\n",
    "train_allprovider[\"DOD\"] = pd.to_datetime(train_allprovider[\"DOD\"])\n",
    "train_allprovider[\"DOB\"] = pd.to_datetime(train_allprovider[\"DOB\"])\n",
    "\n",
    "latest_date = pd.to_datetime(train_allprovider[\"ClaimEndDt\"]).max()\n",
    "latest_date\n"
   ]
  },
  {
   "cell_type": "code",
   "execution_count": 34,
   "metadata": {},
   "outputs": [],
   "source": [
    "# Filling the NA values in DOD column of alive claimants with latest claim date\n",
    "train_allprovider[\"DOD\"] = train_allprovider[\"DOD\"].fillna(latest_date)\n",
    "train_allprovider[\"age\"] = (train_allprovider[\"DOD\"] - train_allprovider[\"DOB\"])/np.timedelta64(1,'Y')"
   ]
  },
  {
   "cell_type": "code",
   "execution_count": 35,
   "metadata": {},
   "outputs": [],
   "source": [
    "# Get claim duration column and remove datetime columns of claim start and end\n",
    "train_allprovider[\"claim_duration\"] = (pd.to_datetime(train_allprovider[\"ClaimEndDt\"]) - pd.to_datetime(train_allprovider[\"ClaimStartDt\"]))/np.timedelta64(1,'D')\n",
    "train_allprovider[\"claim_duration\"] = train_allprovider['claim_duration'].astype('float64')"
   ]
  },
  {
   "cell_type": "code",
   "execution_count": 36,
   "metadata": {},
   "outputs": [],
   "source": [
    "# Handle time spent in hospital\n",
    "train_allprovider[\"time_under_care\"] = (pd.to_datetime(train_allprovider[\"DischargeDt\"]) - pd.to_datetime(train_allprovider[\"AdmissionDt\"]))/np.timedelta64(1,'D')\n",
    "train_allprovider[\"time_under_care\"] = train_allprovider['time_under_care'].astype('float64')\n",
    "train_allprovider[\"time_under_care\"] = train_allprovider[\"time_under_care\"].fillna(0.0)"
   ]
  },
  {
   "cell_type": "code",
   "execution_count": 37,
   "metadata": {},
   "outputs": [],
   "source": [
    "#Removing unecessary columns\n",
    "drop_cols = [\n",
    "    'NoOfMonths_PartACov', \n",
    "    'NoOfMonths_PartBCov', \n",
    "    'State', \n",
    "    'County', \n",
    "    'AttendingPhysician',\n",
    "    'OperatingPhysician', \n",
    "    'OtherPhysician', \n",
    "    'DiagnosisGroupCode',\n",
    "    'DOB',\n",
    "    'DOD',\n",
    "    'ClaimStartDt',\n",
    "    'ClaimEndDt',\n",
    "    'BeneID',\n",
    "    'AdmissionDt',\n",
    "    'DischargeDt'\n",
    "    ]\n",
    "\n",
    "train_allprovider.drop(drop_cols, axis=1, inplace=True)"
   ]
  },
  {
   "cell_type": "code",
   "execution_count": 38,
   "metadata": {},
   "outputs": [],
   "source": [
    "#Read in icd9 data\n",
    "diagnosis=pd.read_csv(\"data/medical_codes_data/icd9_diagnosis.csv\", dtype={'code': str})\n",
    "\n",
    "procedures=pd.read_csv(\"data/medical_codes_data/icd9_procedure.csv\", dtype={'code': str})"
   ]
  },
  {
   "cell_type": "code",
   "execution_count": 39,
   "metadata": {},
   "outputs": [],
   "source": [
    "diagnosis_dict = {}\n",
    "unique_diagnosis = diagnosis['description_1'].unique()\n",
    "for (i,row) in diagnosis.iterrows():\n",
    "    diagnosis_dict[row[\"code\"]] = row[\"description_1\"]\n",
    "\n",
    "procedures_dict = {}\n",
    "unique_procedures = procedures['description_1'].unique()\n",
    "for (i,row) in procedures.iterrows():\n",
    "    procedures_dict[row[\"code\"]] = row[\"description_1\"]\n"
   ]
  },
  {
   "cell_type": "code",
   "execution_count": 40,
   "metadata": {},
   "outputs": [
    {
     "data": {
      "text/plain": [
       "array(['Procedures And Interventions , Not Elsewhere Classified',\n",
       "       'Operations On The Nervous System',\n",
       "       'Operations On The Endocrine System', 'Operations On The Eye',\n",
       "       'Other Miscellaneous Diagnostic And Therapeutic Procedures',\n",
       "       'Operations On The Ear',\n",
       "       'Operations On The Nose, Mouth, And Pharynx',\n",
       "       'Operations On The Respiratory System',\n",
       "       'Operations On The Cardiovascular System',\n",
       "       'Operations On The Hemic And Lymphatic System',\n",
       "       'Operations On The Digestive System',\n",
       "       'Operations On The Urinary System',\n",
       "       'Operations On The Male Genital Organs',\n",
       "       'Operations On The Female Genital Organs',\n",
       "       'Obstetrical Procedures',\n",
       "       'Operations On The Musculoskeletal System',\n",
       "       'Operations On The Integumentary System',\n",
       "       'Miscellaneous Diagnostic And Therapeutic Procedures'],\n",
       "      dtype=object)"
      ]
     },
     "execution_count": 40,
     "metadata": {},
     "output_type": "execute_result"
    }
   ],
   "source": [
    "unique_procedures"
   ]
  },
  {
   "cell_type": "code",
   "execution_count": 41,
   "metadata": {},
   "outputs": [],
   "source": [
    "diagnoses_code_in_table = {}\n",
    "for i,d in enumerate(unique_diagnosis):\n",
    "    diagnoses_code_in_table[d] = i+1\n",
    "\n",
    "procedures_code_in_table = {}\n",
    "for i,p in enumerate(unique_procedures):\n",
    "    procedures_code_in_table[p] = i+1\n",
    "\n"
   ]
  },
  {
   "cell_type": "code",
   "execution_count": 42,
   "metadata": {},
   "outputs": [],
   "source": [
    "# Create a list of columns to process\n",
    "columns_to_process = ['ClmDiagnosisCode_' + str(i) for i in range(1, 11)]\n",
    "not_present_set_diagnosis = set()\n",
    "\n",
    "# Replace the codes with the descriptions\n",
    "diagnosis_descriptor = []\n",
    "for (i,row) in train_allprovider.iterrows():\n",
    "    descriptors = set()\n",
    "    for col in columns_to_process:\n",
    "        adm = False\n",
    "        try:\n",
    "            diag_num = str(diagnosis_dict[row[col]])\n",
    "            new_code2 = diagnoses_code_in_table[diag_num]\n",
    "        except:\n",
    "            if pd.isnull(row[col]):\n",
    "                continue\n",
    "            else:\n",
    "                set.add(not_present_set_diagnosis, row[col])\n",
    "                continue\n",
    "        descriptors.add(new_code2)\n",
    "    diagnosis_descriptor.append(descriptors)\n",
    "\n"
   ]
  },
  {
   "cell_type": "code",
   "execution_count": 43,
   "metadata": {},
   "outputs": [],
   "source": [
    "adm_diag = []\n",
    "for (i,row) in train_allprovider.iterrows():\n",
    "    ind = False\n",
    "    value = row[\"ClmAdmitDiagnosisCode\"]\n",
    "    for col in columns_to_process:\n",
    "        if ind == True:\n",
    "            continue\n",
    "        if pd.isnull(value):\n",
    "            continue\n",
    "        if str(value) == str(row[col]):\n",
    "            adm_diag.append(1)\n",
    "            ind = True\n",
    "    if ind == False:\n",
    "        adm_diag.append(0)\n",
    "len(adm_diag)\n",
    "\n",
    "train_allprovider[\"admitDiagInFinalDiagnosis\"] = adm_diag"
   ]
  },
  {
   "cell_type": "code",
   "execution_count": 44,
   "metadata": {},
   "outputs": [
    {
     "data": {
      "text/plain": [
       "{'0430', '0431', '0449', '71860'}"
      ]
     },
     "execution_count": 44,
     "metadata": {},
     "output_type": "execute_result"
    }
   ],
   "source": [
    "not_present_set_diagnosis"
   ]
  },
  {
   "cell_type": "code",
   "execution_count": 45,
   "metadata": {},
   "outputs": [],
   "source": [
    "columns_to_process2 = ['ClmProcedureCode_' + str(i) for i in range(1, 6)]\n",
    "admit_diag = []\n",
    "\n",
    "not_present_set_procedure = set()\n",
    "procedures_descriptor = []\n",
    "for (i,row) in train_allprovider.iterrows():\n",
    "    procedures = set()\n",
    "    for col in columns_to_process2:\n",
    "        try:\n",
    "            n = str(int(row[col]))\n",
    "            new_code = procedures_dict[n]\n",
    "            new_code2 = procedures_code_in_table[new_code]\n",
    "        except:\n",
    "            if pd.isnull(row[col]):\n",
    "                continue\n",
    "            else:\n",
    "                set.add(not_present_set_procedure, str(int(row[col])))\n",
    "                continue\n",
    "        procedures.add(new_code2)\n",
    "    procedures_descriptor.append(procedures)"
   ]
  },
  {
   "cell_type": "code",
   "execution_count": 46,
   "metadata": {},
   "outputs": [
    {
     "data": {
      "text/plain": [
       "{'239', '296', '309', '407'}"
      ]
     },
     "execution_count": 46,
     "metadata": {},
     "output_type": "execute_result"
    }
   ],
   "source": [
    "not_present_set_procedure"
   ]
  },
  {
   "cell_type": "code",
   "execution_count": 47,
   "metadata": {},
   "outputs": [],
   "source": [
    "diagnoses_columns = {}\n",
    "\n",
    "for j in [i for i in diagnoses_code_in_table.values()]:\n",
    "    diagnoses_columns[j] = []\n",
    "\n",
    "for d in diagnosis_descriptor:\n",
    "    for k,v in diagnoses_columns.items():\n",
    "        if k in d:\n",
    "            v.append(1)\n",
    "        else:\n",
    "            v.append(0)\n",
    "\n",
    "procedures_columns = {}\n",
    "\n",
    "for j in [i for i in procedures_code_in_table.values()]:\n",
    "    procedures_columns[j] = []\n",
    "\n",
    "for p in procedures_descriptor:\n",
    "    for k,v in procedures_columns.items():\n",
    "        if k in p:\n",
    "            v.append(1)\n",
    "        else:\n",
    "            v.append(0)\n",
    "    "
   ]
  },
  {
   "cell_type": "code",
   "execution_count": 48,
   "metadata": {},
   "outputs": [],
   "source": [
    "final_diagnosis_cols = {}\n",
    "for k, name in zip(diagnoses_columns.keys(), diagnoses_code_in_table.values()):\n",
    "    new_name = \"diagnosis_\"+str(name)\n",
    "    final_diagnosis_cols[new_name] = diagnoses_columns[k]\n",
    "\n",
    "final_procedures_cols = {}\n",
    "for k, name in zip(procedures_columns.keys(), procedures_code_in_table.values()):\n",
    "    new_name = \"procedure_\"+str(name)\n",
    "    final_procedures_cols[new_name] = procedures_columns[k]\n"
   ]
  },
  {
   "cell_type": "code",
   "execution_count": 49,
   "metadata": {},
   "outputs": [
    {
     "data": {
      "text/html": [
       "<div>\n",
       "<style scoped>\n",
       "    .dataframe tbody tr th:only-of-type {\n",
       "        vertical-align: middle;\n",
       "    }\n",
       "\n",
       "    .dataframe tbody tr th {\n",
       "        vertical-align: top;\n",
       "    }\n",
       "\n",
       "    .dataframe thead th {\n",
       "        text-align: right;\n",
       "    }\n",
       "</style>\n",
       "<table border=\"1\" class=\"dataframe\">\n",
       "  <thead>\n",
       "    <tr style=\"text-align: right;\">\n",
       "      <th></th>\n",
       "      <th>Provider</th>\n",
       "      <th>PotentialFraud</th>\n",
       "      <th>ClaimID</th>\n",
       "      <th>InscClaimAmtReimbursed</th>\n",
       "      <th>DeductibleAmtPaid</th>\n",
       "      <th>inpatient</th>\n",
       "      <th>Gender</th>\n",
       "      <th>Race</th>\n",
       "      <th>RenalDiseaseIndicator</th>\n",
       "      <th>ChronicCond_Alzheimer</th>\n",
       "      <th>...</th>\n",
       "      <th>ChronicCond_rheumatoidarthritis</th>\n",
       "      <th>ChronicCond_stroke</th>\n",
       "      <th>IPAnnualReimbursementAmt</th>\n",
       "      <th>IPAnnualDeductibleAmt</th>\n",
       "      <th>OPAnnualReimbursementAmt</th>\n",
       "      <th>OPAnnualDeductibleAmt</th>\n",
       "      <th>age</th>\n",
       "      <th>claim_duration</th>\n",
       "      <th>time_under_care</th>\n",
       "      <th>admitDiagInFinalDiagnosis</th>\n",
       "    </tr>\n",
       "  </thead>\n",
       "  <tbody>\n",
       "    <tr>\n",
       "      <th>0</th>\n",
       "      <td>PRV51001</td>\n",
       "      <td>0</td>\n",
       "      <td>CLM733300</td>\n",
       "      <td>20</td>\n",
       "      <td>0.0</td>\n",
       "      <td>0</td>\n",
       "      <td>1</td>\n",
       "      <td>1</td>\n",
       "      <td>1</td>\n",
       "      <td>1</td>\n",
       "      <td>...</td>\n",
       "      <td>0</td>\n",
       "      <td>0</td>\n",
       "      <td>0</td>\n",
       "      <td>0</td>\n",
       "      <td>300</td>\n",
       "      <td>110</td>\n",
       "      <td>79.670356</td>\n",
       "      <td>0.0</td>\n",
       "      <td>0.0</td>\n",
       "      <td>0</td>\n",
       "    </tr>\n",
       "    <tr>\n",
       "      <th>1</th>\n",
       "      <td>PRV51001</td>\n",
       "      <td>0</td>\n",
       "      <td>CLM372475</td>\n",
       "      <td>700</td>\n",
       "      <td>0.0</td>\n",
       "      <td>0</td>\n",
       "      <td>1</td>\n",
       "      <td>1</td>\n",
       "      <td>0</td>\n",
       "      <td>1</td>\n",
       "      <td>...</td>\n",
       "      <td>0</td>\n",
       "      <td>1</td>\n",
       "      <td>0</td>\n",
       "      <td>0</td>\n",
       "      <td>720</td>\n",
       "      <td>10</td>\n",
       "      <td>66.837786</td>\n",
       "      <td>1.0</td>\n",
       "      <td>0.0</td>\n",
       "      <td>0</td>\n",
       "    </tr>\n",
       "    <tr>\n",
       "      <th>2</th>\n",
       "      <td>PRV51001</td>\n",
       "      <td>0</td>\n",
       "      <td>CLM748221</td>\n",
       "      <td>900</td>\n",
       "      <td>0.0</td>\n",
       "      <td>0</td>\n",
       "      <td>2</td>\n",
       "      <td>1</td>\n",
       "      <td>0</td>\n",
       "      <td>0</td>\n",
       "      <td>...</td>\n",
       "      <td>1</td>\n",
       "      <td>0</td>\n",
       "      <td>0</td>\n",
       "      <td>0</td>\n",
       "      <td>1380</td>\n",
       "      <td>370</td>\n",
       "      <td>76.417722</td>\n",
       "      <td>0.0</td>\n",
       "      <td>0.0</td>\n",
       "      <td>0</td>\n",
       "    </tr>\n",
       "    <tr>\n",
       "      <th>3</th>\n",
       "      <td>PRV51001</td>\n",
       "      <td>0</td>\n",
       "      <td>CLM272936</td>\n",
       "      <td>500</td>\n",
       "      <td>0.0</td>\n",
       "      <td>0</td>\n",
       "      <td>1</td>\n",
       "      <td>1</td>\n",
       "      <td>0</td>\n",
       "      <td>1</td>\n",
       "      <td>...</td>\n",
       "      <td>0</td>\n",
       "      <td>0</td>\n",
       "      <td>2020</td>\n",
       "      <td>1068</td>\n",
       "      <td>6700</td>\n",
       "      <td>2700</td>\n",
       "      <td>73.835876</td>\n",
       "      <td>1.0</td>\n",
       "      <td>0.0</td>\n",
       "      <td>0</td>\n",
       "    </tr>\n",
       "    <tr>\n",
       "      <th>4</th>\n",
       "      <td>PRV51001</td>\n",
       "      <td>0</td>\n",
       "      <td>CLM58316</td>\n",
       "      <td>36000</td>\n",
       "      <td>1068.0</td>\n",
       "      <td>1</td>\n",
       "      <td>1</td>\n",
       "      <td>1</td>\n",
       "      <td>0</td>\n",
       "      <td>0</td>\n",
       "      <td>...</td>\n",
       "      <td>0</td>\n",
       "      <td>1</td>\n",
       "      <td>36000</td>\n",
       "      <td>1068</td>\n",
       "      <td>3520</td>\n",
       "      <td>140</td>\n",
       "      <td>69.501769</td>\n",
       "      <td>4.0</td>\n",
       "      <td>4.0</td>\n",
       "      <td>0</td>\n",
       "    </tr>\n",
       "  </tbody>\n",
       "</table>\n",
       "<p>5 rows × 28 columns</p>\n",
       "</div>"
      ],
      "text/plain": [
       "   Provider  PotentialFraud    ClaimID  InscClaimAmtReimbursed  \\\n",
       "0  PRV51001               0  CLM733300                      20   \n",
       "1  PRV51001               0  CLM372475                     700   \n",
       "2  PRV51001               0  CLM748221                     900   \n",
       "3  PRV51001               0  CLM272936                     500   \n",
       "4  PRV51001               0   CLM58316                   36000   \n",
       "\n",
       "   DeductibleAmtPaid  inpatient  Gender  Race RenalDiseaseIndicator  \\\n",
       "0                0.0          0       1     1                     1   \n",
       "1                0.0          0       1     1                     0   \n",
       "2                0.0          0       2     1                     0   \n",
       "3                0.0          0       1     1                     0   \n",
       "4             1068.0          1       1     1                     0   \n",
       "\n",
       "   ChronicCond_Alzheimer  ...  ChronicCond_rheumatoidarthritis  \\\n",
       "0                      1  ...                                0   \n",
       "1                      1  ...                                0   \n",
       "2                      0  ...                                1   \n",
       "3                      1  ...                                0   \n",
       "4                      0  ...                                0   \n",
       "\n",
       "   ChronicCond_stroke  IPAnnualReimbursementAmt  IPAnnualDeductibleAmt  \\\n",
       "0                   0                         0                      0   \n",
       "1                   1                         0                      0   \n",
       "2                   0                         0                      0   \n",
       "3                   0                      2020                   1068   \n",
       "4                   1                     36000                   1068   \n",
       "\n",
       "   OPAnnualReimbursementAmt  OPAnnualDeductibleAmt        age  claim_duration  \\\n",
       "0                       300                    110  79.670356             0.0   \n",
       "1                       720                     10  66.837786             1.0   \n",
       "2                      1380                    370  76.417722             0.0   \n",
       "3                      6700                   2700  73.835876             1.0   \n",
       "4                      3520                    140  69.501769             4.0   \n",
       "\n",
       "   time_under_care  admitDiagInFinalDiagnosis  \n",
       "0              0.0                          0  \n",
       "1              0.0                          0  \n",
       "2              0.0                          0  \n",
       "3              0.0                          0  \n",
       "4              4.0                          0  \n",
       "\n",
       "[5 rows x 28 columns]"
      ]
     },
     "execution_count": 49,
     "metadata": {},
     "output_type": "execute_result"
    }
   ],
   "source": [
    "train_allprovider.drop(\n",
    "    columns_to_process + columns_to_process2,\n",
    "    axis = 1,\n",
    "    inplace = True\n",
    ")\n",
    "train_allprovider.drop(\n",
    "    [\"ClmAdmitDiagnosisCode\"],\n",
    "    axis = 1,\n",
    "    inplace = True\n",
    ")\n",
    "\n",
    "train_allprovider.head()"
   ]
  },
  {
   "cell_type": "code",
   "execution_count": 50,
   "metadata": {},
   "outputs": [],
   "source": [
    "final_train_df = pd.concat(\n",
    "    [\n",
    "        pd.concat(\n",
    "            [\n",
    "                train_allprovider,\n",
    "                pd.DataFrame(\n",
    "                    final_diagnosis_cols\n",
    "                )\n",
    "            ],\n",
    "            axis = 1\n",
    "        ),\n",
    "        pd.DataFrame(\n",
    "            final_procedures_cols\n",
    "        )\n",
    "    ], \n",
    "    axis = 1\n",
    ")"
   ]
  },
  {
   "cell_type": "code",
   "execution_count": 52,
   "metadata": {},
   "outputs": [],
   "source": [
    "final_train_df.to_csv(\"processed_data/final_training_set.csv\", index=False)"
   ]
  },
  {
   "cell_type": "code",
   "execution_count": null,
   "metadata": {},
   "outputs": [],
   "source": []
  }
 ],
 "metadata": {
  "kernelspec": {
   "display_name": "Python 3",
   "language": "python",
   "name": "python3"
  },
  "language_info": {
   "codemirror_mode": {
    "name": "ipython",
    "version": 3
   },
   "file_extension": ".py",
   "mimetype": "text/x-python",
   "name": "python",
   "nbconvert_exporter": "python",
   "pygments_lexer": "ipython3",
   "version": "3.8.10"
  },
  "orig_nbformat": 4
 },
 "nbformat": 4,
 "nbformat_minor": 2
}

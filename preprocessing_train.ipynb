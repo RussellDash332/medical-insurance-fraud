{
 "cells": [
  {
   "cell_type": "code",
   "execution_count": 119,
   "metadata": {},
   "outputs": [],
   "source": [
    "import pandas as pd\n",
    "import numpy as np\n",
    "import os\n",
    "\n",
    "def filepath(f):\n",
    "    d = os.path.join(os.getcwd(), 'data', 'fraud_detection_data', f)\n",
    "    return d    \n",
    "\n",
    "#Import training datasets\n",
    "train_label=pd.read_csv(filepath(\"Train.csv\"))\n",
    "train_beneficiary=pd.read_csv(filepath(\"Train_Beneficiarydata.csv\"))\n",
    "train_inpatient=pd.read_csv(filepath(\"Train_Inpatientdata.csv\"))\n",
    "train_outpatient=pd.read_csv(filepath(\"Train_Outpatientdata.csv\"))"
   ]
  },
  {
   "cell_type": "code",
   "execution_count": 120,
   "metadata": {},
   "outputs": [],
   "source": [
    "##Replacing 2 with 0 for chronic conditions ,that means chroniv condition No is 0 and yes is 1\n",
    "train_beneficiary = train_beneficiary.replace({'ChronicCond_Alzheimer': 2, 'ChronicCond_Heartfailure': 2, 'ChronicCond_KidneyDisease': 2,\n",
    "                           'ChronicCond_Cancer': 2, 'ChronicCond_ObstrPulmonary': 2, 'ChronicCond_Depression': 2, \n",
    "                           'ChronicCond_Diabetes': 2, 'ChronicCond_IschemicHeart': 2, 'ChronicCond_Osteoporasis': 2, \n",
    "                           'ChronicCond_rheumatoidarthritis': 2, 'ChronicCond_stroke': 2 }, 0)\n",
    "\n",
    "train_beneficiary = train_beneficiary.replace({'RenalDiseaseIndicator': 'Y'}, 1)"
   ]
  },
  {
   "cell_type": "code",
   "execution_count": 121,
   "metadata": {},
   "outputs": [
    {
     "name": "stderr",
     "output_type": "stream",
     "text": [
      "C:\\Users\\aengu\\AppData\\Local\\Packages\\PythonSoftwareFoundation.Python.3.8_qbz5n2kfra8p0\\LocalCache\\local-packages\\Python38\\site-packages\\pandas\\core\\reshape\\merge.py:1213: RuntimeWarning: invalid value encountered in cast\n",
      "  if not (rk == rk.astype(lk.dtype))[~np.isnan(rk)].all():\n"
     ]
    }
   ],
   "source": [
    "# Combine training datasets \n",
    "train_inpatient['inpatient'] = 1\n",
    "train_outpatient['inpatient'] = 0\n",
    "train=pd.merge(train_outpatient,train_inpatient,\n",
    "                              left_on=['BeneID', 'ClaimID', 'ClaimStartDt', 'ClaimEndDt', 'Provider',\n",
    "       'InscClaimAmtReimbursed', 'AttendingPhysician', 'OperatingPhysician',\n",
    "       'OtherPhysician', 'ClmDiagnosisCode_1', 'ClmDiagnosisCode_2',\n",
    "       'ClmDiagnosisCode_3', 'ClmDiagnosisCode_4', 'ClmDiagnosisCode_5',\n",
    "       'ClmDiagnosisCode_6', 'ClmDiagnosisCode_7', 'ClmDiagnosisCode_8',\n",
    "       'ClmDiagnosisCode_9', 'ClmDiagnosisCode_10', 'ClmProcedureCode_1',\n",
    "       'ClmProcedureCode_2', 'ClmProcedureCode_3', 'ClmProcedureCode_4',\n",
    "       'ClmProcedureCode_5', 'ClmProcedureCode_6', 'DeductibleAmtPaid',\n",
    "       'ClmAdmitDiagnosisCode','inpatient'],\n",
    "                              right_on=['BeneID', 'ClaimID', 'ClaimStartDt', 'ClaimEndDt', 'Provider',\n",
    "       'InscClaimAmtReimbursed', 'AttendingPhysician', 'OperatingPhysician',\n",
    "       'OtherPhysician', 'ClmDiagnosisCode_1', 'ClmDiagnosisCode_2',\n",
    "       'ClmDiagnosisCode_3', 'ClmDiagnosisCode_4', 'ClmDiagnosisCode_5',\n",
    "       'ClmDiagnosisCode_6', 'ClmDiagnosisCode_7', 'ClmDiagnosisCode_8',\n",
    "       'ClmDiagnosisCode_9', 'ClmDiagnosisCode_10', 'ClmProcedureCode_1',\n",
    "       'ClmProcedureCode_2', 'ClmProcedureCode_3', 'ClmProcedureCode_4',\n",
    "       'ClmProcedureCode_5', 'ClmProcedureCode_6', 'DeductibleAmtPaid',\n",
    "       'ClmAdmitDiagnosisCode','inpatient']\n",
    "                              ,how='outer')\n",
    "\n",
    "train_alldata=pd.merge(train,train_beneficiary,left_on='BeneID',right_on='BeneID',how='inner')"
   ]
  },
  {
   "cell_type": "code",
   "execution_count": 122,
   "metadata": {},
   "outputs": [
    {
     "name": "stdout",
     "output_type": "stream",
     "text": [
      "ClmProcedureCode_6 dropped as it is a constant.\n"
     ]
    }
   ],
   "source": [
    "# Drop constant columns\n",
    "for col in train_alldata.columns:\n",
    "    if train_alldata[col].nunique() <= 1:\n",
    "        train_alldata.drop([col], inplace=True, axis=1)\n",
    "        print(col, \"dropped as it is a constant.\")"
   ]
  },
  {
   "cell_type": "code",
   "execution_count": 123,
   "metadata": {},
   "outputs": [],
   "source": [
    "#Merging with Provider\n",
    "train_allprovider=pd.merge(train_label,train_alldata,on='Provider')"
   ]
  },
  {
   "cell_type": "code",
   "execution_count": 124,
   "metadata": {},
   "outputs": [],
   "source": [
    "#Removing unecessary columns\n",
    "drop_cols = [\n",
    "    'NoOfMonths_PartACov', \n",
    "    'NoOfMonths_PartBCov', \n",
    "    'State', \n",
    "    'County', \n",
    "    'AttendingPhysician',\n",
    "    'OperatingPhysician', \n",
    "    'OtherPhysician', \n",
    "    'DiagnosisGroupCode'\n",
    "    ]\n",
    "\n",
    "train_allprovider=train_allprovider.drop(drop_cols, axis=1)"
   ]
  },
  {
   "cell_type": "code",
   "execution_count": 125,
   "metadata": {},
   "outputs": [],
   "source": [
    "#Read in icd9 data\n",
    "diagnosis=pd.read_csv(\"data/medical_code_data/icd9_diagnosis.csv\", dtype={'code': str})\n",
    "\n",
    "procedures=pd.read_csv(\"data/medical_code_data/icd9_procedure.csv\", dtype={'code': str})"
   ]
  },
  {
   "cell_type": "code",
   "execution_count": 126,
   "metadata": {},
   "outputs": [],
   "source": [
    "diagnosis_dict = {}\n",
    "unique_diagnosis = diagnosis['description_1'].unique()\n",
    "for (i,row) in diagnosis.iterrows():\n",
    "    diagnosis_dict[row[\"code\"]] = row[\"description_1\"]\n",
    "\n",
    "procedures_dict = {}\n",
    "unique_procedures = procedures['description_1'].unique()\n",
    "for (i,row) in procedures.iterrows():\n",
    "    procedures_dict[row[\"code\"]] = row[\"description_1\"]\n"
   ]
  },
  {
   "cell_type": "code",
   "execution_count": 127,
   "metadata": {},
   "outputs": [
    {
     "data": {
      "text/plain": [
       "array(['Procedures And Interventions , Not Elsewhere Classified',\n",
       "       'Operations On The Nervous System',\n",
       "       'Operations On The Endocrine System', 'Operations On The Eye',\n",
       "       'Other Miscellaneous Diagnostic And Therapeutic Procedures',\n",
       "       'Operations On The Ear',\n",
       "       'Operations On The Nose, Mouth, And Pharynx',\n",
       "       'Operations On The Respiratory System',\n",
       "       'Operations On The Cardiovascular System',\n",
       "       'Operations On The Hemic And Lymphatic System',\n",
       "       'Operations On The Digestive System',\n",
       "       'Operations On The Urinary System',\n",
       "       'Operations On The Male Genital Organs',\n",
       "       'Operations On The Female Genital Organs',\n",
       "       'Obstetrical Procedures',\n",
       "       'Operations On The Musculoskeletal System',\n",
       "       'Operations On The Integumentary System',\n",
       "       'Miscellaneous Diagnostic And Therapeutic Procedures'],\n",
       "      dtype=object)"
      ]
     },
     "execution_count": 127,
     "metadata": {},
     "output_type": "execute_result"
    }
   ],
   "source": [
    "unique_procedures"
   ]
  },
  {
   "cell_type": "code",
   "execution_count": 128,
   "metadata": {},
   "outputs": [],
   "source": [
    "diagnoses_code_in_table = {}\n",
    "for i,d in enumerate(unique_diagnosis):\n",
    "    diagnoses_code_in_table[d] = i+1\n",
    "\n",
    "procedures_code_in_table = {}\n",
    "for i,p in enumerate(unique_procedures):\n",
    "    procedures_code_in_table[p] = i+1\n",
    "\n"
   ]
  },
  {
   "cell_type": "code",
   "execution_count": 129,
   "metadata": {},
   "outputs": [],
   "source": [
    "# Create a list of columns to process\n",
    "columns_to_process = ['ClmDiagnosisCode_' + str(i) for i in range(1, 11)]\n",
    "not_present_set_diagnosis = set()\n",
    "\n",
    "# Replace the codes with the descriptions\n",
    "diagnosis_descriptor = []\n",
    "for (i,row) in train_allprovider.iterrows():\n",
    "    descriptors = set()\n",
    "    for col in columns_to_process:\n",
    "        adm = False\n",
    "        try:\n",
    "            diag_num = str(diagnosis_dict[row[col]])\n",
    "            new_code2 = diagnoses_code_in_table[diag_num]\n",
    "        except:\n",
    "            if pd.isnull(row[col]):\n",
    "                continue\n",
    "            else:\n",
    "                set.add(not_present_set_diagnosis, row[col])\n",
    "                continue\n",
    "        descriptors.add(new_code2)\n",
    "    diagnosis_descriptor.append(descriptors)\n",
    "\n"
   ]
  },
  {
   "cell_type": "code",
   "execution_count": 135,
   "metadata": {},
   "outputs": [
    {
     "data": {
      "text/plain": [
       "558211"
      ]
     },
     "execution_count": 135,
     "metadata": {},
     "output_type": "execute_result"
    }
   ],
   "source": [
    "adm_diag = []\n",
    "for (i,row) in train_allprovider.iterrows():\n",
    "    ind = False\n",
    "    value = row[\"ClmAdmitDiagnosisCode\"]\n",
    "    for col in columns_to_process:\n",
    "        if ind == True:\n",
    "            continue\n",
    "        if pd.isnull(value):\n",
    "            continue\n",
    "        if str(value) == str(row[col]):\n",
    "            adm_diag.append(1)\n",
    "            ind = True\n",
    "    if ind == False:\n",
    "        adm_diag.append(0)\n",
    "len(adm_diag)\n",
    "\n",
    "train_allprovider[\"admitDiagInFinalDiagnosis\"] = adm_diag"
   ]
  },
  {
   "cell_type": "code",
   "execution_count": 137,
   "metadata": {},
   "outputs": [],
   "source": [
    "columns_to_process2 = ['ClmProcedureCode_' + str(i) for i in range(1, 6)]\n",
    "admit_diag = []\n",
    "\n",
    "not_present_set_procedure = set()\n",
    "procedures_descriptor = []\n",
    "for (i,row) in train_allprovider.iterrows():\n",
    "    procedures = set()\n",
    "    for col in columns_to_process2:\n",
    "        try:\n",
    "            n = str(int(row[col]))\n",
    "            new_code = procedures_dict[n]\n",
    "            new_code2 = procedures_code_in_table[new_code]\n",
    "        except:\n",
    "            if pd.isnull(row[col]):\n",
    "                continue\n",
    "            else:\n",
    "                set.add(not_present_set_procedure, str(int(row[col])))\n",
    "                continue\n",
    "        procedures.add(new_code2)\n",
    "    procedures_descriptor.append(procedures)"
   ]
  },
  {
   "cell_type": "code",
   "execution_count": 138,
   "metadata": {},
   "outputs": [
    {
     "data": {
      "text/plain": [
       "{'239', '296', '309', '407'}"
      ]
     },
     "execution_count": 138,
     "metadata": {},
     "output_type": "execute_result"
    }
   ],
   "source": [
    "not_present_set_procedure"
   ]
  },
  {
   "cell_type": "code",
   "execution_count": 139,
   "metadata": {},
   "outputs": [],
   "source": [
    "diagnoses_columns = {}\n",
    "\n",
    "for j in [i for i in diagnoses_code_in_table.values()]:\n",
    "    diagnoses_columns[j] = []\n",
    "\n",
    "for d in diagnosis_descriptor:\n",
    "    for k,v in diagnoses_columns.items():\n",
    "        if k in d:\n",
    "            v.append(1)\n",
    "        else:\n",
    "            v.append(0)\n",
    "\n",
    "procedures_columns = {}\n",
    "\n",
    "for j in [i for i in procedures_code_in_table.values()]:\n",
    "    procedures_columns[j] = []\n",
    "\n",
    "for p in procedures_descriptor:\n",
    "    for k,v in procedures_columns.items():\n",
    "        if k in p:\n",
    "            v.append(1)\n",
    "        else:\n",
    "            v.append(0)\n",
    "    "
   ]
  },
  {
   "cell_type": "code",
   "execution_count": 140,
   "metadata": {},
   "outputs": [],
   "source": [
    "final_diagnosis_cols = {}\n",
    "for k, name in zip(diagnoses_columns.keys(), diagnoses_code_in_table.values()):\n",
    "    new_name = \"diagnosis_\"+str(name)\n",
    "    final_diagnosis_cols[new_name] = diagnoses_columns[k]\n",
    "\n",
    "final_procedures_cols = {}\n",
    "for k, name in zip(procedures_columns.keys(), procedures_code_in_table.values()):\n",
    "    new_name = \"procedure_\"+str(name)\n",
    "    final_procedures_cols[new_name] = procedures_columns[k]\n"
   ]
  },
  {
   "cell_type": "code",
   "execution_count": 141,
   "metadata": {},
   "outputs": [
    {
     "data": {
      "text/html": [
       "<div>\n",
       "<style scoped>\n",
       "    .dataframe tbody tr th:only-of-type {\n",
       "        vertical-align: middle;\n",
       "    }\n",
       "\n",
       "    .dataframe tbody tr th {\n",
       "        vertical-align: top;\n",
       "    }\n",
       "\n",
       "    .dataframe thead th {\n",
       "        text-align: right;\n",
       "    }\n",
       "</style>\n",
       "<table border=\"1\" class=\"dataframe\">\n",
       "  <thead>\n",
       "    <tr style=\"text-align: right;\">\n",
       "      <th></th>\n",
       "      <th>Provider</th>\n",
       "      <th>PotentialFraud</th>\n",
       "      <th>BeneID</th>\n",
       "      <th>ClaimID</th>\n",
       "      <th>ClaimStartDt</th>\n",
       "      <th>ClaimEndDt</th>\n",
       "      <th>InscClaimAmtReimbursed</th>\n",
       "      <th>DeductibleAmtPaid</th>\n",
       "      <th>inpatient</th>\n",
       "      <th>AdmissionDt</th>\n",
       "      <th>...</th>\n",
       "      <th>ChronicCond_Osteoporasis</th>\n",
       "      <th>ChronicCond_rheumatoidarthritis</th>\n",
       "      <th>ChronicCond_stroke</th>\n",
       "      <th>IPAnnualReimbursementAmt</th>\n",
       "      <th>IPAnnualDeductibleAmt</th>\n",
       "      <th>OPAnnualReimbursementAmt</th>\n",
       "      <th>OPAnnualDeductibleAmt</th>\n",
       "      <th>admitDiagInFinalDiagnosis</th>\n",
       "      <th>diagnosis_descriptor</th>\n",
       "      <th>procedures_descriptor</th>\n",
       "    </tr>\n",
       "  </thead>\n",
       "  <tbody>\n",
       "    <tr>\n",
       "      <th>0</th>\n",
       "      <td>PRV51001</td>\n",
       "      <td>No</td>\n",
       "      <td>BENE11727</td>\n",
       "      <td>CLM733300</td>\n",
       "      <td>2009-12-17</td>\n",
       "      <td>2009-12-17</td>\n",
       "      <td>20</td>\n",
       "      <td>0.0</td>\n",
       "      <td>0</td>\n",
       "      <td>NaN</td>\n",
       "      <td>...</td>\n",
       "      <td>0</td>\n",
       "      <td>0</td>\n",
       "      <td>0</td>\n",
       "      <td>0</td>\n",
       "      <td>0</td>\n",
       "      <td>300</td>\n",
       "      <td>110</td>\n",
       "      <td>0</td>\n",
       "      <td>{10, 7}</td>\n",
       "      <td>{}</td>\n",
       "    </tr>\n",
       "    <tr>\n",
       "      <th>1</th>\n",
       "      <td>PRV51001</td>\n",
       "      <td>No</td>\n",
       "      <td>BENE24646</td>\n",
       "      <td>CLM372475</td>\n",
       "      <td>2009-05-22</td>\n",
       "      <td>2009-05-23</td>\n",
       "      <td>700</td>\n",
       "      <td>0.0</td>\n",
       "      <td>0</td>\n",
       "      <td>NaN</td>\n",
       "      <td>...</td>\n",
       "      <td>1</td>\n",
       "      <td>0</td>\n",
       "      <td>1</td>\n",
       "      <td>0</td>\n",
       "      <td>0</td>\n",
       "      <td>720</td>\n",
       "      <td>10</td>\n",
       "      <td>0</td>\n",
       "      <td>{16, 8, 19, 7}</td>\n",
       "      <td>{}</td>\n",
       "    </tr>\n",
       "    <tr>\n",
       "      <th>2</th>\n",
       "      <td>PRV51001</td>\n",
       "      <td>No</td>\n",
       "      <td>BENE31617</td>\n",
       "      <td>CLM748221</td>\n",
       "      <td>2009-12-28</td>\n",
       "      <td>2009-12-28</td>\n",
       "      <td>900</td>\n",
       "      <td>0.0</td>\n",
       "      <td>0</td>\n",
       "      <td>NaN</td>\n",
       "      <td>...</td>\n",
       "      <td>0</td>\n",
       "      <td>1</td>\n",
       "      <td>0</td>\n",
       "      <td>0</td>\n",
       "      <td>0</td>\n",
       "      <td>1380</td>\n",
       "      <td>370</td>\n",
       "      <td>0</td>\n",
       "      <td>{19}</td>\n",
       "      <td>{}</td>\n",
       "    </tr>\n",
       "    <tr>\n",
       "      <th>3</th>\n",
       "      <td>PRV51001</td>\n",
       "      <td>No</td>\n",
       "      <td>BENE32715</td>\n",
       "      <td>CLM272936</td>\n",
       "      <td>2009-03-29</td>\n",
       "      <td>2009-03-30</td>\n",
       "      <td>500</td>\n",
       "      <td>0.0</td>\n",
       "      <td>0</td>\n",
       "      <td>NaN</td>\n",
       "      <td>...</td>\n",
       "      <td>0</td>\n",
       "      <td>0</td>\n",
       "      <td>0</td>\n",
       "      <td>2020</td>\n",
       "      <td>1068</td>\n",
       "      <td>6700</td>\n",
       "      <td>2700</td>\n",
       "      <td>0</td>\n",
       "      <td>{3, 6, 9, 16, 19}</td>\n",
       "      <td>{}</td>\n",
       "    </tr>\n",
       "    <tr>\n",
       "      <th>4</th>\n",
       "      <td>PRV51001</td>\n",
       "      <td>No</td>\n",
       "      <td>BENE36012</td>\n",
       "      <td>CLM58316</td>\n",
       "      <td>2009-07-04</td>\n",
       "      <td>2009-07-08</td>\n",
       "      <td>36000</td>\n",
       "      <td>1068.0</td>\n",
       "      <td>1</td>\n",
       "      <td>2009-07-04</td>\n",
       "      <td>...</td>\n",
       "      <td>0</td>\n",
       "      <td>0</td>\n",
       "      <td>1</td>\n",
       "      <td>36000</td>\n",
       "      <td>1068</td>\n",
       "      <td>3520</td>\n",
       "      <td>140</td>\n",
       "      <td>0</td>\n",
       "      <td>{1, 4, 5, 8, 16, 19}</td>\n",
       "      <td>{}</td>\n",
       "    </tr>\n",
       "  </tbody>\n",
       "</table>\n",
       "<p>5 rows × 34 columns</p>\n",
       "</div>"
      ],
      "text/plain": [
       "   Provider PotentialFraud     BeneID    ClaimID ClaimStartDt  ClaimEndDt  \\\n",
       "0  PRV51001             No  BENE11727  CLM733300   2009-12-17  2009-12-17   \n",
       "1  PRV51001             No  BENE24646  CLM372475   2009-05-22  2009-05-23   \n",
       "2  PRV51001             No  BENE31617  CLM748221   2009-12-28  2009-12-28   \n",
       "3  PRV51001             No  BENE32715  CLM272936   2009-03-29  2009-03-30   \n",
       "4  PRV51001             No  BENE36012   CLM58316   2009-07-04  2009-07-08   \n",
       "\n",
       "   InscClaimAmtReimbursed  DeductibleAmtPaid  inpatient AdmissionDt  ...  \\\n",
       "0                      20                0.0          0         NaN  ...   \n",
       "1                     700                0.0          0         NaN  ...   \n",
       "2                     900                0.0          0         NaN  ...   \n",
       "3                     500                0.0          0         NaN  ...   \n",
       "4                   36000             1068.0          1  2009-07-04  ...   \n",
       "\n",
       "  ChronicCond_Osteoporasis ChronicCond_rheumatoidarthritis ChronicCond_stroke  \\\n",
       "0                        0                               0                  0   \n",
       "1                        1                               0                  1   \n",
       "2                        0                               1                  0   \n",
       "3                        0                               0                  0   \n",
       "4                        0                               0                  1   \n",
       "\n",
       "   IPAnnualReimbursementAmt  IPAnnualDeductibleAmt OPAnnualReimbursementAmt  \\\n",
       "0                         0                      0                      300   \n",
       "1                         0                      0                      720   \n",
       "2                         0                      0                     1380   \n",
       "3                      2020                   1068                     6700   \n",
       "4                     36000                   1068                     3520   \n",
       "\n",
       "   OPAnnualDeductibleAmt  admitDiagInFinalDiagnosis  diagnosis_descriptor  \\\n",
       "0                    110                          0               {10, 7}   \n",
       "1                     10                          0        {16, 8, 19, 7}   \n",
       "2                    370                          0                  {19}   \n",
       "3                   2700                          0     {3, 6, 9, 16, 19}   \n",
       "4                    140                          0  {1, 4, 5, 8, 16, 19}   \n",
       "\n",
       "   procedures_descriptor  \n",
       "0                     {}  \n",
       "1                     {}  \n",
       "2                     {}  \n",
       "3                     {}  \n",
       "4                     {}  \n",
       "\n",
       "[5 rows x 34 columns]"
      ]
     },
     "execution_count": 141,
     "metadata": {},
     "output_type": "execute_result"
    }
   ],
   "source": [
    "train_allprovider['diagnosis_descriptor'] = diagnosis_descriptor\n",
    "train_allprovider['procedures_descriptor'] = procedures_descriptor\n",
    "train_allprovider.drop(\n",
    "    columns_to_process + columns_to_process2,\n",
    "    axis = 1,\n",
    "    inplace = True\n",
    ")\n",
    "train_allprovider.drop(\n",
    "    [\"ClmAdmitDiagnosisCode\"],\n",
    "    axis = 1,\n",
    "    inplace = True\n",
    ")\n",
    "\n",
    "train_allprovider.head()"
   ]
  },
  {
   "cell_type": "code",
   "execution_count": 142,
   "metadata": {},
   "outputs": [],
   "source": [
    "final_train_df = pd.concat(\n",
    "    [\n",
    "        pd.concat(\n",
    "            [\n",
    "                train_allprovider,\n",
    "                pd.DataFrame(\n",
    "                    final_diagnosis_cols\n",
    "                )\n",
    "            ],\n",
    "            axis = 1\n",
    "        ),\n",
    "        pd.DataFrame(\n",
    "            final_procedures_cols\n",
    "        )\n",
    "    ], \n",
    "    axis = 1\n",
    ")"
   ]
  },
  {
   "cell_type": "code",
   "execution_count": 143,
   "metadata": {},
   "outputs": [
    {
     "data": {
      "text/plain": [
       "array([0, 1], dtype=int64)"
      ]
     },
     "execution_count": 143,
     "metadata": {},
     "output_type": "execute_result"
    }
   ],
   "source": [
    "final_train_df[\"admitDiagInFinalDiagnosis\"].unique()"
   ]
  },
  {
   "cell_type": "code",
   "execution_count": 145,
   "metadata": {},
   "outputs": [],
   "source": [
    "final_train_df.to_csv(\"processed_data/final_training_set.csv\")"
   ]
  }
 ],
 "metadata": {
  "kernelspec": {
   "display_name": "Python 3",
   "language": "python",
   "name": "python3"
  },
  "language_info": {
   "codemirror_mode": {
    "name": "ipython",
    "version": 3
   },
   "file_extension": ".py",
   "mimetype": "text/x-python",
   "name": "python",
   "nbconvert_exporter": "python",
   "pygments_lexer": "ipython3",
   "version": "3.8.10"
  },
  "orig_nbformat": 4
 },
 "nbformat": 4,
 "nbformat_minor": 2
}

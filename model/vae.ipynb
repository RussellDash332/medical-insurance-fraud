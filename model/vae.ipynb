{
 "cells": [
  {
   "cell_type": "code",
   "execution_count": 97,
   "metadata": {},
   "outputs": [],
   "source": [
    "import pandas as pd\n",
    "import numpy as np\n",
    "import os  "
   ]
  },
  {
   "cell_type": "code",
   "execution_count": 98,
   "metadata": {},
   "outputs": [],
   "source": [
    "def filepath(f):\n",
    "    d = os.path.join(os.path.dirname(os.getcwd()), 'processed_data', f)\n",
    "    return d"
   ]
  },
  {
   "cell_type": "code",
   "execution_count": 99,
   "metadata": {},
   "outputs": [],
   "source": [
    "#Import training and test datasets\n",
    "train_data=pd.read_csv(filepath(\"final_training_set.csv\"))\n",
    "test_data=pd.read_csv(filepath(\"final_test_set.csv\"))"
   ]
  },
  {
   "cell_type": "code",
   "execution_count": 100,
   "metadata": {},
   "outputs": [],
   "source": [
    "uid = train_data[\"ClaimID\"]\n",
    "train_data = train_data.drop(\n",
    "    [\"ClaimID\",\n",
    "     \"Unnamed: 0\"],\n",
    "    axis = 1\n",
    ")"
   ]
  },
  {
   "cell_type": "code",
   "execution_count": 101,
   "metadata": {},
   "outputs": [
    {
     "data": {
      "text/plain": [
       "1"
      ]
     },
     "execution_count": 101,
     "metadata": {},
     "output_type": "execute_result"
    }
   ],
   "source": [
    "train_data[\"procedure_1\"].nunique()"
   ]
  },
  {
   "cell_type": "code",
   "execution_count": 102,
   "metadata": {},
   "outputs": [
    {
     "name": "stdout",
     "output_type": "stream",
     "text": [
      "Provider\n",
      "PotentialFraud\n",
      "InscClaimAmtReimbursed\n",
      "DeductibleAmtPaid\n",
      "inpatient\n",
      "Gender\n",
      "Race\n",
      "RenalDiseaseIndicator\n",
      "ChronicCond_Alzheimer\n",
      "ChronicCond_Heartfailure\n",
      "ChronicCond_KidneyDisease\n",
      "ChronicCond_Cancer\n",
      "ChronicCond_ObstrPulmonary\n",
      "ChronicCond_Depression\n",
      "ChronicCond_Diabetes\n",
      "ChronicCond_IschemicHeart\n",
      "ChronicCond_Osteoporasis\n",
      "ChronicCond_rheumatoidarthritis\n",
      "ChronicCond_stroke\n",
      "IPAnnualReimbursementAmt\n",
      "IPAnnualDeductibleAmt\n",
      "OPAnnualReimbursementAmt\n",
      "OPAnnualDeductibleAmt\n",
      "age\n",
      "claim_duration\n",
      "time_under_care\n",
      "admitDiagInFinalDiagnosis\n",
      "diagnosis_1\n",
      "diagnosis_2\n",
      "diagnosis_3\n",
      "diagnosis_4\n",
      "diagnosis_5\n",
      "diagnosis_6\n",
      "diagnosis_7\n",
      "diagnosis_8\n",
      "diagnosis_9\n",
      "diagnosis_10\n",
      "diagnosis_11\n",
      "diagnosis_12\n",
      "diagnosis_13\n",
      "diagnosis_14\n",
      "diagnosis_15\n",
      "diagnosis_16\n",
      "diagnosis_17\n",
      "diagnosis_18\n",
      "diagnosis_19\n",
      "procedure_1\n",
      "procedure_2\n",
      "procedure_3\n",
      "procedure_4\n",
      "procedure_5\n",
      "procedure_6\n",
      "procedure_7\n",
      "procedure_8\n",
      "procedure_9\n",
      "procedure_10\n",
      "procedure_11\n",
      "procedure_12\n",
      "procedure_13\n",
      "procedure_14\n",
      "procedure_15\n",
      "procedure_16\n",
      "procedure_17\n",
      "procedure_18\n"
     ]
    }
   ],
   "source": [
    "for c in train_data.columns:\n",
    "    print(c)"
   ]
  },
  {
   "cell_type": "code",
   "execution_count": 103,
   "metadata": {},
   "outputs": [],
   "source": [
    "def minmax_encode(df, col):\n",
    "    \"\"\"\n",
    "    Return dataset including the minmax encoded column and excluding the original column\n",
    "\n",
    "    Constraints:\n",
    "    - col must be a String\n",
    "    - df must be a Pandas Dataframe\n",
    "    - df[col] must be numeric\n",
    "    \"\"\"\n",
    "\n",
    "    maxx = df[col].max()\n",
    "    minx = df[col].min()\n",
    "    out = list(map(lambda x: (x-minx)/(maxx-minx), df[col]))\n",
    "    new_colname = col + \"_minmax\"\n",
    "    df[new_colname] = out\n",
    "    return df.drop(\n",
    "        [col],\n",
    "        axis = 1\n",
    "    )"
   ]
  },
  {
   "cell_type": "code",
   "execution_count": 104,
   "metadata": {},
   "outputs": [],
   "source": [
    "def one_hot_encode(df, col):\n",
    "    \"\"\"\n",
    "    Returns the dataset including the one hot encoded columns and excluding the original column\n",
    "\n",
    "    Constraints:\n",
    "    - col must be a String\n",
    "    - df must be a Pandas Dataframe\n",
    "    - df[col] must be a Series that represents a categorical variable\n",
    "    \"\"\"\n",
    "    ohe_cols = pd.get_dummies(df[col], prefix = col)\n",
    "    output = pd.concat(\n",
    "        [df, ohe_cols],\n",
    "        axis = 1,\n",
    "    ).drop(\n",
    "        [col],\n",
    "        axis = 1\n",
    "    )\n",
    "    return output\n",
    "\n",
    "def frequency_encode(df, col):\n",
    "    \"\"\"\n",
    "    Returns the dataset including the frequency encoded column and excluding the original column\n",
    "\n",
    "    Constraints:\n",
    "    - col must be a String\n",
    "    - df must be a Pandas Dataframe\n",
    "    - df[col] must be a Series that represents a categorical variable with high cardinality\n",
    "    \"\"\"\n",
    "    val_counts = df[col].value_counts().to_dict()\n",
    "    total = len(col)\n",
    "    out = []\n",
    "    for x in df[col]:\n",
    "        out.append(val_counts[x]/total)\n",
    "    new_colname = col + '_freq'\n",
    "    df[new_colname] = out\n",
    "    df.drop(\n",
    "        [col],\n",
    "        axis = 1,\n",
    "        inplace = True\n",
    "    )\n",
    "\n",
    "    return df"
   ]
  },
  {
   "cell_type": "code",
   "execution_count": 105,
   "metadata": {},
   "outputs": [
    {
     "name": "stdout",
     "output_type": "stream",
     "text": [
      "procedure_1 has been removed as it is constant\n",
      "procedure_2 has been removed as it is constant\n",
      "procedure_3 has been removed as it is constant\n"
     ]
    }
   ],
   "source": [
    "freq_encoded_cols = []\n",
    "ohe_cols = []\n",
    "num_cols = []\n",
    "unique_threshold = 30\n",
    "\n",
    "for col in train_data.columns:\n",
    "    if train_data[col].nunique() == 1:\n",
    "        print(col,\"has been removed as it is constant\")\n",
    "        train_data.drop([col], axis=1, inplace=True)\n",
    "    elif train_data[col].nunique() == 2: # Binary column\n",
    "        continue\n",
    "    elif train_data[col].dtype in ['int64','float64']:\n",
    "        train_data[col] = train_data[col].fillna(train_data[col].median())\n",
    "        num_cols.append(col)\n",
    "    elif train_data[col].nunique() > unique_threshold:\n",
    "        freq_encoded_cols.append(col)\n",
    "    elif 2 < train_data[col].nunique() <= unique_threshold:\n",
    "        ohe_cols.append(col)\n",
    "        \n"
   ]
  },
  {
   "cell_type": "code",
   "execution_count": 106,
   "metadata": {},
   "outputs": [],
   "source": [
    "for col in train_data.columns:\n",
    "    if col in num_cols:\n",
    "        try:\n",
    "            train_data = minmax_encode(train_data, col)\n",
    "        except:\n",
    "            print(col)\n",
    "    elif col in ohe_cols:\n",
    "        train_data = one_hot_encode(train_data, col)\n",
    "    elif col in freq_encoded_cols:\n",
    "        train_data = frequency_encode(train_data, col)\n",
    "    elif train_data[col].nunique() == 1:\n",
    "        train_data.drop(\n",
    "            [col],\n",
    "            axis = 1,\n",
    "            inplace = True\n",
    "        )\n",
    "    else:\n",
    "        train_data[col] = train_data[col].astype('bool')"
   ]
  },
  {
   "cell_type": "code",
   "execution_count": 107,
   "metadata": {},
   "outputs": [
    {
     "name": "stdout",
     "output_type": "stream",
     "text": [
      "PotentialFraud\n",
      "inpatient\n",
      "Gender\n",
      "RenalDiseaseIndicator\n",
      "ChronicCond_Alzheimer\n",
      "ChronicCond_Heartfailure\n",
      "ChronicCond_KidneyDisease\n",
      "ChronicCond_Cancer\n",
      "ChronicCond_ObstrPulmonary\n",
      "ChronicCond_Depression\n",
      "ChronicCond_Diabetes\n",
      "ChronicCond_IschemicHeart\n",
      "ChronicCond_Osteoporasis\n",
      "ChronicCond_rheumatoidarthritis\n",
      "ChronicCond_stroke\n",
      "admitDiagInFinalDiagnosis\n",
      "diagnosis_1\n",
      "diagnosis_2\n",
      "diagnosis_3\n",
      "diagnosis_4\n",
      "diagnosis_5\n",
      "diagnosis_6\n",
      "diagnosis_7\n",
      "diagnosis_8\n",
      "diagnosis_9\n",
      "diagnosis_10\n",
      "diagnosis_11\n",
      "diagnosis_12\n",
      "diagnosis_13\n",
      "diagnosis_14\n",
      "diagnosis_15\n",
      "diagnosis_16\n",
      "diagnosis_17\n",
      "diagnosis_18\n",
      "diagnosis_19\n",
      "procedure_4\n",
      "procedure_5\n",
      "procedure_6\n",
      "procedure_7\n",
      "procedure_8\n",
      "procedure_9\n",
      "procedure_10\n",
      "procedure_11\n",
      "procedure_12\n",
      "procedure_13\n",
      "procedure_14\n",
      "procedure_15\n",
      "procedure_16\n",
      "procedure_17\n",
      "procedure_18\n",
      "Provider_freq\n",
      "InscClaimAmtReimbursed_minmax\n",
      "DeductibleAmtPaid_minmax\n",
      "Race_minmax\n",
      "IPAnnualReimbursementAmt_minmax\n",
      "IPAnnualDeductibleAmt_minmax\n",
      "OPAnnualReimbursementAmt_minmax\n",
      "OPAnnualDeductibleAmt_minmax\n",
      "age_minmax\n",
      "claim_duration_minmax\n",
      "time_under_care_minmax\n"
     ]
    }
   ],
   "source": [
    "for c in train_data.columns:\n",
    "    print(c)"
   ]
  },
  {
   "cell_type": "code",
   "execution_count": 108,
   "metadata": {},
   "outputs": [],
   "source": [
    "y = train_data[\"PotentialFraud\"]\n",
    "train_data.drop(\n",
    "    [\"PotentialFraud\"],\n",
    "    axis = 1,\n",
    "    inplace = True\n",
    ")"
   ]
  },
  {
   "cell_type": "code",
   "execution_count": null,
   "metadata": {},
   "outputs": [],
   "source": []
  }
 ],
 "metadata": {
  "kernelspec": {
   "display_name": "Python 3",
   "language": "python",
   "name": "python3"
  },
  "language_info": {
   "codemirror_mode": {
    "name": "ipython",
    "version": 3
   },
   "file_extension": ".py",
   "mimetype": "text/x-python",
   "name": "python",
   "nbconvert_exporter": "python",
   "pygments_lexer": "ipython3",
   "version": "3.8.10"
  }
 },
 "nbformat": 4,
 "nbformat_minor": 2
}

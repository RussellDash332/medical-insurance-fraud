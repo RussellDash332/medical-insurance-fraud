{
 "cells": [
  {
   "cell_type": "code",
   "execution_count": 169,
   "metadata": {},
   "outputs": [],
   "source": [
    "import pandas as pd\n",
    "import numpy as np\n",
    "\n",
    "#Import training datasets\n",
    "train_label=pd.read_csv(\"data/fraud_detection_data/Train.csv\")\n",
    "train_beneficiary=pd.read_csv(\"data/fraud_detection_data/Train_Beneficiarydata.csv\")\n",
    "train_inpatient=pd.read_csv(\"data/fraud_detection_data/Train_Inpatientdata.csv\")\n",
    "train_outpatient=pd.read_csv(\"data/fraud_detection_data/Train_Outpatientdata.csv\")\n",
    "\n",
    "#importing testing datasets\n",
    "test_inpatient = pd.read_csv(\"data/fraud_detection_data/Test_Inpatientdata.csv\")\n",
    "test_outpatient = pd.read_csv(\"data/fraud_detection_data/Test_Outpatientdata.csv\")\n",
    "test_beneficiary = pd.read_csv(\"data/fraud_detection_data/Test_Beneficiarydata.csv\")\n",
    "test_label = pd.read_csv(\"data/fraud_detection_data/Test.csv\")"
   ]
  },
  {
   "cell_type": "code",
   "execution_count": 170,
   "metadata": {},
   "outputs": [
    {
     "name": "stdout",
     "output_type": "stream",
     "text": [
      "10453\n",
      "534901\n"
     ]
    }
   ],
   "source": [
    "#Check number of NA values in outpatient and inpatient diagnosis codes\n",
    "print(train_outpatient['ClmDiagnosisCode_1'].isna().sum() + train_inpatient['ClmDiagnosisCode_1'].isna().sum())\n",
    "\n",
    "#Check number of NA values in outpatient and inpatient procedure codes\n",
    "print(train_outpatient['ClmProcedureCode_1'].isna().sum() + train_inpatient['ClmProcedureCode_1'].isna().sum())"
   ]
  },
  {
   "cell_type": "code",
   "execution_count": 171,
   "metadata": {},
   "outputs": [],
   "source": [
    "##Replacing 2 with 0 for chronic conditions ,that means chroniv condition No is 0 and yes is 1\n",
    "train_beneficiary = train_beneficiary.replace({'ChronicCond_Alzheimer': 2, 'ChronicCond_Heartfailure': 2, 'ChronicCond_KidneyDisease': 2,\n",
    "                           'ChronicCond_Cancer': 2, 'ChronicCond_ObstrPulmonary': 2, 'ChronicCond_Depression': 2, \n",
    "                           'ChronicCond_Diabetes': 2, 'ChronicCond_IschemicHeart': 2, 'ChronicCond_Osteoporasis': 2, \n",
    "                           'ChronicCond_rheumatoidarthritis': 2, 'ChronicCond_stroke': 2 }, 0)\n",
    "\n",
    "train_beneficiary = train_beneficiary.replace({'RenalDiseaseIndicator': 'Y'}, 1)\n",
    "\n",
    "test_beneficiary = test_beneficiary.replace({'ChronicCond_Alzheimer': 2, 'ChronicCond_Heartfailure': 2, 'ChronicCond_KidneyDisease': 2,\n",
    "                           'ChronicCond_Cancer': 2, 'ChronicCond_ObstrPulmonary': 2, 'ChronicCond_Depression': 2, \n",
    "                           'ChronicCond_Diabetes': 2, 'ChronicCond_IschemicHeart': 2, 'ChronicCond_Osteoporasis': 2, \n",
    "                           'ChronicCond_rheumatoidarthritis': 2, 'ChronicCond_stroke': 2 }, 0)\n",
    "\n",
    "test_beneficiary = test_beneficiary.replace({'RenalDiseaseIndicator': 'Y'}, 1)"
   ]
  },
  {
   "cell_type": "code",
   "execution_count": 172,
   "metadata": {},
   "outputs": [],
   "source": [
    "# Combine training datasets \n",
    "train_inpatient['inpatient'] = 1\n",
    "train_outpatient['inpatient'] = 0\n",
    "train=pd.merge(train_outpatient,train_inpatient,\n",
    "                              left_on=['BeneID', 'ClaimID', 'ClaimStartDt', 'ClaimEndDt', 'Provider',\n",
    "       'InscClaimAmtReimbursed', 'AttendingPhysician', 'OperatingPhysician',\n",
    "       'OtherPhysician', 'ClmDiagnosisCode_1', 'ClmDiagnosisCode_2',\n",
    "       'ClmDiagnosisCode_3', 'ClmDiagnosisCode_4', 'ClmDiagnosisCode_5',\n",
    "       'ClmDiagnosisCode_6', 'ClmDiagnosisCode_7', 'ClmDiagnosisCode_8',\n",
    "       'ClmDiagnosisCode_9', 'ClmDiagnosisCode_10', 'ClmProcedureCode_1',\n",
    "       'ClmProcedureCode_2', 'ClmProcedureCode_3', 'ClmProcedureCode_4',\n",
    "       'ClmProcedureCode_5', 'ClmProcedureCode_6', 'DeductibleAmtPaid',\n",
    "       'ClmAdmitDiagnosisCode','inpatient'],\n",
    "                              right_on=['BeneID', 'ClaimID', 'ClaimStartDt', 'ClaimEndDt', 'Provider',\n",
    "       'InscClaimAmtReimbursed', 'AttendingPhysician', 'OperatingPhysician',\n",
    "       'OtherPhysician', 'ClmDiagnosisCode_1', 'ClmDiagnosisCode_2',\n",
    "       'ClmDiagnosisCode_3', 'ClmDiagnosisCode_4', 'ClmDiagnosisCode_5',\n",
    "       'ClmDiagnosisCode_6', 'ClmDiagnosisCode_7', 'ClmDiagnosisCode_8',\n",
    "       'ClmDiagnosisCode_9', 'ClmDiagnosisCode_10', 'ClmProcedureCode_1',\n",
    "       'ClmProcedureCode_2', 'ClmProcedureCode_3', 'ClmProcedureCode_4',\n",
    "       'ClmProcedureCode_5', 'ClmProcedureCode_6', 'DeductibleAmtPaid',\n",
    "       'ClmAdmitDiagnosisCode','inpatient']\n",
    "                              ,how='outer')\n",
    "\n",
    "train_alldata=pd.merge(train,train_beneficiary,left_on='BeneID',right_on='BeneID',how='inner')"
   ]
  },
  {
   "cell_type": "code",
   "execution_count": 173,
   "metadata": {},
   "outputs": [
    {
     "name": "stdout",
     "output_type": "stream",
     "text": [
      "10453\n"
     ]
    }
   ],
   "source": [
    "print(train_alldata['ClmDiagnosisCode_1'].isna().sum())"
   ]
  },
  {
   "cell_type": "code",
   "execution_count": 174,
   "metadata": {},
   "outputs": [],
   "source": [
    "#Combining test data\n",
    "test_inpatient['inpatient'] = 1\n",
    "test_outpatient['inpatient'] = 0\n",
    "#test = pd.concat([test_inpatient, test_outpatient], axis=0, sort=False)\n",
    "test=pd.merge(test_outpatient,test_inpatient,\n",
    "                              left_on=['BeneID', 'ClaimID', 'ClaimStartDt', 'ClaimEndDt', 'Provider',\n",
    "       'InscClaimAmtReimbursed', 'AttendingPhysician', 'OperatingPhysician',\n",
    "       'OtherPhysician', 'ClmDiagnosisCode_1', 'ClmDiagnosisCode_2',\n",
    "       'ClmDiagnosisCode_3', 'ClmDiagnosisCode_4', 'ClmDiagnosisCode_5',\n",
    "       'ClmDiagnosisCode_6', 'ClmDiagnosisCode_7', 'ClmDiagnosisCode_8',\n",
    "       'ClmDiagnosisCode_9', 'ClmDiagnosisCode_10', 'ClmProcedureCode_1',\n",
    "       'ClmProcedureCode_2', 'ClmProcedureCode_3', 'ClmProcedureCode_4',\n",
    "       'ClmProcedureCode_5', 'ClmProcedureCode_6', 'DeductibleAmtPaid',\n",
    "       'ClmAdmitDiagnosisCode','inpatient'],\n",
    "                              right_on=['BeneID', 'ClaimID', 'ClaimStartDt', 'ClaimEndDt', 'Provider',\n",
    "       'InscClaimAmtReimbursed', 'AttendingPhysician', 'OperatingPhysician',\n",
    "       'OtherPhysician', 'ClmDiagnosisCode_1', 'ClmDiagnosisCode_2',\n",
    "       'ClmDiagnosisCode_3', 'ClmDiagnosisCode_4', 'ClmDiagnosisCode_5',\n",
    "       'ClmDiagnosisCode_6', 'ClmDiagnosisCode_7', 'ClmDiagnosisCode_8',\n",
    "       'ClmDiagnosisCode_9', 'ClmDiagnosisCode_10', 'ClmProcedureCode_1',\n",
    "       'ClmProcedureCode_2', 'ClmProcedureCode_3', 'ClmProcedureCode_4',\n",
    "       'ClmProcedureCode_5', 'ClmProcedureCode_6', 'DeductibleAmtPaid',\n",
    "       'ClmAdmitDiagnosisCode','inpatient']\n",
    "                              ,how='outer')\n",
    "\n",
    "test_alldata=pd.merge(test,test_beneficiary,left_on='BeneID',right_on='BeneID',how='inner')\n"
   ]
  },
  {
   "cell_type": "code",
   "execution_count": 175,
   "metadata": {},
   "outputs": [
    {
     "name": "stdout",
     "output_type": "stream",
     "text": [
      "(135392, 55)\n"
     ]
    }
   ],
   "source": [
    "print(test_alldata.shape)"
   ]
  },
  {
   "cell_type": "code",
   "execution_count": 176,
   "metadata": {},
   "outputs": [],
   "source": [
    "#Merging with Provider\n",
    "train_allprovider=pd.merge(train_label,train_alldata,on='Provider')\n",
    "\n",
    "test_allprovider=pd.merge(test_label,test_alldata,on='Provider')"
   ]
  },
  {
   "cell_type": "code",
   "execution_count": 177,
   "metadata": {},
   "outputs": [
    {
     "name": "stdout",
     "output_type": "stream",
     "text": [
      "10453\n"
     ]
    }
   ],
   "source": [
    "print(train_allprovider['ClmDiagnosisCode_1'].isna().sum())"
   ]
  },
  {
   "cell_type": "code",
   "execution_count": 178,
   "metadata": {},
   "outputs": [],
   "source": [
    "#Removing unecessary columns\n",
    "train_allprovider=train_allprovider.drop(['NoOfMonths_PartACov', 'NoOfMonths_PartBCov', 'State', 'County', 'AttendingPhysician',\n",
    "       'OperatingPhysician', 'OtherPhysician', 'DiagnosisGroupCode'],axis=1)\n",
    "\n",
    "test_allprovider=test_allprovider.drop(['NoOfMonths_PartACov', 'NoOfMonths_PartBCov', 'State', 'County', 'AttendingPhysician',\n",
    "       'OperatingPhysician', 'OtherPhysician', 'DiagnosisGroupCode'],axis=1)"
   ]
  },
  {
   "cell_type": "code",
   "execution_count": 179,
   "metadata": {},
   "outputs": [
    {
     "name": "stdout",
     "output_type": "stream",
     "text": [
      "10453\n"
     ]
    }
   ],
   "source": [
    "print(train_allprovider['ClmDiagnosisCode_1'].isna().sum())"
   ]
  },
  {
   "cell_type": "code",
   "execution_count": 180,
   "metadata": {},
   "outputs": [],
   "source": [
    "#Read in icd9 data\n",
    "diagnosis=pd.read_csv(\"processed_data/icd9_diagnosis.csv\", dtype={'code': str})\n",
    "\n",
    "procedures=pd.read_csv(\"processed_data/icd9_procedure.csv\", dtype={'code': str})"
   ]
  },
  {
   "cell_type": "code",
   "execution_count": 181,
   "metadata": {},
   "outputs": [
    {
     "name": "stdout",
     "output_type": "stream",
     "text": [
      "Unexpected exception formatting exception. Falling back to standard exception\n"
     ]
    },
    {
     "name": "stderr",
     "output_type": "stream",
     "text": [
      "Traceback (most recent call last):\n",
      "  File \"c:\\Users\\Bryan-PC\\AppData\\Local\\Programs\\Python\\Python310\\lib\\site-packages\\IPython\\core\\interactiveshell.py\", line 3526, in run_code\n",
      "    exec(code_obj, self.user_global_ns, self.user_ns)\n",
      "  File \"C:\\Users\\Bryan-PC\\AppData\\Local\\Temp\\ipykernel_9780\\3879752516.py\", line 15, in <module>\n",
      "    train_allprovider['DiagnosisDescription_1'] = train_allprovider['ClmDiagnosisCode_1'].apply(get_diagnosis_description)\n",
      "  File \"c:\\Users\\Bryan-PC\\AppData\\Local\\Programs\\Python\\Python310\\lib\\site-packages\\pandas\\core\\series.py\", line 4771, in apply\n",
      "    return SeriesApply(self, func, convert_dtype, args, kwargs).apply()\n",
      "  File \"c:\\Users\\Bryan-PC\\AppData\\Local\\Programs\\Python\\Python310\\lib\\site-packages\\pandas\\core\\apply.py\", line 1123, in apply\n",
      "    return self.apply_standard()\n",
      "  File \"c:\\Users\\Bryan-PC\\AppData\\Local\\Programs\\Python\\Python310\\lib\\site-packages\\pandas\\core\\apply.py\", line 1174, in apply_standard\n",
      "    mapped = lib.map_infer(\n",
      "  File \"pandas\\_libs\\lib.pyx\", line 2924, in pandas._libs.lib.map_infer\n",
      "  File \"C:\\Users\\Bryan-PC\\AppData\\Local\\Temp\\ipykernel_9780\\3879752516.py\", line 8, in get_diagnosis_description\n",
      "    description = diagnosis[diagnosis['code'] == code]['description_' + str(length)]\n",
      "  File \"c:\\Users\\Bryan-PC\\AppData\\Local\\Programs\\Python\\Python310\\lib\\site-packages\\pandas\\core\\frame.py\", line 3798, in __getitem__\n",
      "    return self._getitem_bool_array(key)\n",
      "  File \"c:\\Users\\Bryan-PC\\AppData\\Local\\Programs\\Python\\Python310\\lib\\site-packages\\pandas\\core\\frame.py\", line 3852, in _getitem_bool_array\n",
      "    indexer = key.nonzero()[0]\n",
      "KeyboardInterrupt\n",
      "\n",
      "During handling of the above exception, another exception occurred:\n",
      "\n",
      "Traceback (most recent call last):\n",
      "  File \"c:\\Users\\Bryan-PC\\AppData\\Local\\Programs\\Python\\Python310\\lib\\site-packages\\IPython\\core\\interactiveshell.py\", line 2120, in showtraceback\n",
      "    stb = self.InteractiveTB.structured_traceback(\n",
      "  File \"c:\\Users\\Bryan-PC\\AppData\\Local\\Programs\\Python\\Python310\\lib\\site-packages\\IPython\\core\\ultratb.py\", line 1435, in structured_traceback\n",
      "    return FormattedTB.structured_traceback(\n",
      "  File \"c:\\Users\\Bryan-PC\\AppData\\Local\\Programs\\Python\\Python310\\lib\\site-packages\\IPython\\core\\ultratb.py\", line 1326, in structured_traceback\n",
      "    return VerboseTB.structured_traceback(\n",
      "  File \"c:\\Users\\Bryan-PC\\AppData\\Local\\Programs\\Python\\Python310\\lib\\site-packages\\IPython\\core\\ultratb.py\", line 1173, in structured_traceback\n",
      "    formatted_exception = self.format_exception_as_a_whole(etype, evalue, etb, number_of_lines_of_context,\n",
      "  File \"c:\\Users\\Bryan-PC\\AppData\\Local\\Programs\\Python\\Python310\\lib\\site-packages\\IPython\\core\\ultratb.py\", line 1063, in format_exception_as_a_whole\n",
      "    self.get_records(etb, number_of_lines_of_context, tb_offset) if etb else []\n",
      "  File \"c:\\Users\\Bryan-PC\\AppData\\Local\\Programs\\Python\\Python310\\lib\\site-packages\\IPython\\core\\ultratb.py\", line 1155, in get_records\n",
      "    FrameInfo(\n",
      "  File \"c:\\Users\\Bryan-PC\\AppData\\Local\\Programs\\Python\\Python310\\lib\\site-packages\\IPython\\core\\ultratb.py\", line 780, in __init__\n",
      "    ix = inspect.getsourcelines(frame)\n",
      "  File \"c:\\Users\\Bryan-PC\\AppData\\Local\\Programs\\Python\\Python310\\lib\\inspect.py\", line 1129, in getsourcelines\n",
      "    lines, lnum = findsource(object)\n",
      "  File \"c:\\Users\\Bryan-PC\\AppData\\Local\\Programs\\Python\\Python310\\lib\\inspect.py\", line 958, in findsource\n",
      "    raise OSError('could not get source code')\n",
      "OSError: could not get source code\n"
     ]
    }
   ],
   "source": [
    "# Create a list of columns to process\n",
    "columns_to_process = ['ClmDiagnosisCode_' + str(i) for i in range(1, 11)]\n",
    "\n",
    "# Create a function to get the description for a diagnosis code\n",
    "def get_diagnosis_description(code):\n",
    "    code = str(code)\n",
    "    length = len(code)\n",
    "    description = diagnosis[diagnosis['code'] == code]['description_' + str(length)]\n",
    "    if description.empty:\n",
    "        return None\n",
    "    else:\n",
    "        return description.iloc[0]\n",
    "\n",
    "# Apply the function to the ClmDiagnosisCode_1 column\n",
    "for col in columns_to_process:\n",
    "    # Create a new column name for the description\n",
    "    diagnosisdescription_1 = 'DiagnosisDescription_' + col.split('_')[1]\n",
    "    train_allprovider[diagnosisdescription_1] = train_allprovider[col].apply(get_diagnosis_description)"
   ]
  },
  {
   "cell_type": "code",
   "execution_count": 133,
   "metadata": {},
   "outputs": [],
   "source": [
    "#Adding in dignosis and procedure codes into training dataset\n",
    "\n",
    "# Create a list of columns to process\n",
    "columns_to_process = ['ClmDiagnosisCode_' + str(i) for i in range(1, 11)]\n",
    "\n",
    "# Iterate over the columns and create new columns for descriptions\n",
    "for col in columns_to_process:\n",
    "    # Create a new column name for the description\n",
    "    diagnosisdescription_1 = 'DiagnosisDescription_' + col.split('_')[1]\n",
    "    # Use the 'map' function to map the diagnosis codes to descriptions\n",
    "    train_allprovider[diagnosisdescription_1] = train_allprovider[col].map(diagnosis.set_index('code')['description_' + str(len('code'))])\n",
    "            \n",
    "# Create a list of columns to process\n",
    "columns_to_process2 = ['ClmProcedureCode_' + str(i) for i in range(1, 7)]\n",
    "\n",
    "# Iterate over the columns and create new columns for descriptions\n",
    "for col in columns_to_process2:\n",
    "    # Create a new column name for the description\n",
    "    procedure_description = 'ProceduresDescription_' + col.split('_')[1]\n",
    "    train_allprovider[col] = train_allprovider[col].astype(str).str.rstrip('.0')\n",
    "    # Use the 'map' function to map the diagnosis codes to descriptions\n",
    "    train_allprovider[procedure_description] = train_allprovider[col].map(procedures.set_index('code')['description_' + str(len('code'))])"
   ]
  },
  {
   "cell_type": "code",
   "execution_count": 155,
   "metadata": {},
   "outputs": [
    {
     "name": "stdout",
     "output_type": "stream",
     "text": [
      "185\n",
      "nan\n",
      "True\n",
      "True\n"
     ]
    }
   ],
   "source": [
    "print(train_allprovider['ClmDiagnosisCode_1'][73])\n",
    "print(train_allprovider['DiagnosisDescription_1'][73])\n",
    "\n",
    "print(train_allprovider['ClmDiagnosisCode_1'][73] == diagnosis['code'][1827])\n",
    "print(len(train_allprovider['ClmDiagnosisCode_1'][73]) == len(diagnosis['code'][1827]))\n"
   ]
  },
  {
   "cell_type": "code",
   "execution_count": null,
   "metadata": {},
   "outputs": [],
   "source": [
    "# Generate a sequence of numbers to iterate over\n",
    "#for i in range(len(train_allprovider)):\n",
    "\n",
    "    # Check if the value in the ClmDiagnosisCode_1 column is NA and print the row number if it is\n",
    "    #if train_allprovider['DiagnosisDescription_1'].isna()[i]:\n",
    "       # print(i)"
   ]
  },
  {
   "cell_type": "code",
   "execution_count": 136,
   "metadata": {},
   "outputs": [],
   "source": [
    "#Adding in dignosis and procedure codes into test dataset\n",
    "\n",
    "# Iterate over the columns and create new columns for descriptions\n",
    "for col in columns_to_process:\n",
    "    # Create a new column name for the description\n",
    "    diagnosisdescription_1 = 'DiagnosisDescription_' + col.split('_')[1]\n",
    "    # Use the 'map' function to map the diagnosis codes to descriptions\n",
    "    test_allprovider[diagnosisdescription_1] = test_allprovider[col].map(diagnosis.set_index('code')['description_' + str(len('code'))])\n",
    "\n",
    "# Iterate over the columns and create new columns for descriptions\n",
    "for col in columns_to_process2:\n",
    "    # Create a new column name for the description\n",
    "    proceduredescription_1 = 'ProceduresDescription_' + col.split('_')[1]\n",
    "    test_allprovider[col] = test_allprovider[col].astype(str).str.rstrip('.0')\n",
    "    # Use the 'map' function to map the diagnosis codes to descriptions\n",
    "    test_allprovider[proceduredescription_1] = test_allprovider[col].map(procedures.set_index('code')['description_' + str(len('code'))])"
   ]
  },
  {
   "cell_type": "code",
   "execution_count": 135,
   "metadata": {},
   "outputs": [
    {
     "name": "stdout",
     "output_type": "stream",
     "text": [
      "Length of dataset: 558211\n",
      "Length of combined dataset: 558211\n",
      "\n",
      "\n",
      "No. of NA diagnosis codes: 10453\n",
      "No. of NA diagnosis codes in combined dataset: 10453\n",
      "No. of NA diagnosis description in combined dataset: 20060\n",
      "\n",
      "\n",
      "No. of NA procedure codes: 534901\n",
      "No. of NA procedure codes in combined dataset: 0\n",
      "No. of NA procedure description in combined dataset: 538331\n"
     ]
    }
   ],
   "source": [
    "print(\"Length of dataset: \" + str(len(train_outpatient)+len(train_inpatient)))\n",
    "print(\"Length of combined dataset: \" + str(len(train_allprovider)))\n",
    "\n",
    "print('\\n')\n",
    "\n",
    "#Check number of NA values in outpatient and inpatient diagnosis codes\n",
    "print(\"No. of NA diagnosis codes: \" + str(train_outpatient['ClmDiagnosisCode_1'].isna().sum() + train_inpatient['ClmDiagnosisCode_1'].isna().sum()))\n",
    "#Check number of NA ClmDiagnosisCode_1 in combined dataset\n",
    "print(\"No. of NA diagnosis codes in combined dataset: \" + str(train_allprovider['ClmDiagnosisCode_1'].isna().sum()))\n",
    "print(\"No. of NA diagnosis description in combined dataset: \" + str(train_allprovider['DiagnosisDescription_1'].isna().sum()))\n",
    "\n",
    "print('\\n')\n",
    "\n",
    "#Check number of NA values in outpatient and inpatient procedure codes\n",
    "print(\"No. of NA procedure codes: \" + str(train_outpatient['ClmProcedureCode_1'].isna().sum() + train_inpatient['ClmProcedureCode_1'].isna().sum()))\n",
    "print(\"No. of NA procedure codes in combined dataset: \" + str(train_allprovider['ClmProcedureCode_1'].isna().sum()))\n",
    "print(\"No. of NA procedure description in combined dataset: \" + str(train_allprovider['ProceduresDescription_1'].isna().sum()))\n"
   ]
  },
  {
   "cell_type": "code",
   "execution_count": 117,
   "metadata": {},
   "outputs": [],
   "source": [
    "#Export train and test datasets\n",
    "#train_allprovider.to_csv(\"processed_data/train_all_provider.csv\")\n",
    "#test_allprovider.to_csv(\"processed_data/test_all_provider.csv\")"
   ]
  }
 ],
 "metadata": {
  "kernelspec": {
   "display_name": "Python 3",
   "language": "python",
   "name": "python3"
  },
  "language_info": {
   "codemirror_mode": {
    "name": "ipython",
    "version": 3
   },
   "file_extension": ".py",
   "mimetype": "text/x-python",
   "name": "python",
   "nbconvert_exporter": "python",
   "pygments_lexer": "ipython3",
   "version": "3.10.0"
  },
  "orig_nbformat": 4
 },
 "nbformat": 4,
 "nbformat_minor": 2
}

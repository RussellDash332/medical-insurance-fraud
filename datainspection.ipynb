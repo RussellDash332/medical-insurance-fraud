{
 "cells": [
  {
   "cell_type": "code",
   "execution_count": null,
   "metadata": {},
   "outputs": [],
   "source": [
    "#This code combines"
   ]
  },
  {
   "cell_type": "code",
   "execution_count": 18,
   "metadata": {},
   "outputs": [],
   "source": [
    "import pandas as pd\n",
    "import numpy as np\n",
    "\n",
    "#Import training datasets\n",
    "train_label=pd.read_csv(\"data/fraud_detection_data/Train-1542865627584.csv\")\n",
    "train_beneficiary=pd.read_csv(\"data/fraud_detection_data/Train_Beneficiarydata-1542865627584.csv\")\n",
    "train_inpatient=pd.read_csv(\"data/fraud_detection_data/Train_Inpatientdata-1542865627584.csv\")\n",
    "train_outpatient=pd.read_csv(\"data/fraud_detection_data/Train_Outpatientdata-1542865627584.csv\")\n",
    "\n",
    "#importing testing datasets\n",
    "test_inpatient = pd.read_csv(\"data/fraud_detection_data/Test_Inpatientdata-1542969243754.csv\")\n",
    "test_outpatient = pd.read_csv(\"data/fraud_detection_data/Test_Outpatientdata-1542969243754.csv\")\n",
    "test_beneficiary = pd.read_csv(\"data/fraud_detection_data/Test_Beneficiarydata-1542969243754.csv\")\n",
    "test_label = pd.read_csv(\"data/fraud_detection_data/Test-1542969243754.csv\")"
   ]
  },
  {
   "cell_type": "code",
   "execution_count": 19,
   "metadata": {},
   "outputs": [],
   "source": [
    "##Replacing 2 with 0 for chronic conditions ,that means chroniv condition No is 0 and yes is 1\n",
    "train_beneficiary = train_beneficiary.replace({'ChronicCond_Alzheimer': 2, 'ChronicCond_Heartfailure': 2, 'ChronicCond_KidneyDisease': 2,\n",
    "                           'ChronicCond_Cancer': 2, 'ChronicCond_ObstrPulmonary': 2, 'ChronicCond_Depression': 2, \n",
    "                           'ChronicCond_Diabetes': 2, 'ChronicCond_IschemicHeart': 2, 'ChronicCond_Osteoporasis': 2, \n",
    "                           'ChronicCond_rheumatoidarthritis': 2, 'ChronicCond_stroke': 2 }, 0)\n",
    "\n",
    "train_beneficiary = train_beneficiary.replace({'RenalDiseaseIndicator': 'Y'}, 1)\n",
    "\n",
    "test_beneficiary = test_beneficiary.replace({'ChronicCond_Alzheimer': 2, 'ChronicCond_Heartfailure': 2, 'ChronicCond_KidneyDisease': 2,\n",
    "                           'ChronicCond_Cancer': 2, 'ChronicCond_ObstrPulmonary': 2, 'ChronicCond_Depression': 2, \n",
    "                           'ChronicCond_Diabetes': 2, 'ChronicCond_IschemicHeart': 2, 'ChronicCond_Osteoporasis': 2, \n",
    "                           'ChronicCond_rheumatoidarthritis': 2, 'ChronicCond_stroke': 2 }, 0)\n",
    "\n",
    "test_beneficiary = test_beneficiary.replace({'RenalDiseaseIndicator': 'Y'}, 1)"
   ]
  },
  {
   "cell_type": "code",
   "execution_count": 20,
   "metadata": {},
   "outputs": [],
   "source": [
    "# Combine training datasets \n",
    "train_inpatient['inpatient'] = 1\n",
    "train_outpatient['inpatient'] = 0\n",
    "train=pd.merge(train_outpatient,train_inpatient,\n",
    "                              left_on=['BeneID', 'ClaimID', 'ClaimStartDt', 'ClaimEndDt', 'Provider',\n",
    "       'InscClaimAmtReimbursed', 'AttendingPhysician', 'OperatingPhysician',\n",
    "       'OtherPhysician', 'ClmDiagnosisCode_1', 'ClmDiagnosisCode_2',\n",
    "       'ClmDiagnosisCode_3', 'ClmDiagnosisCode_4', 'ClmDiagnosisCode_5',\n",
    "       'ClmDiagnosisCode_6', 'ClmDiagnosisCode_7', 'ClmDiagnosisCode_8',\n",
    "       'ClmDiagnosisCode_9', 'ClmDiagnosisCode_10', 'ClmProcedureCode_1',\n",
    "       'ClmProcedureCode_2', 'ClmProcedureCode_3', 'ClmProcedureCode_4',\n",
    "       'ClmProcedureCode_5', 'ClmProcedureCode_6', 'DeductibleAmtPaid',\n",
    "       'ClmAdmitDiagnosisCode','inpatient'],\n",
    "                              right_on=['BeneID', 'ClaimID', 'ClaimStartDt', 'ClaimEndDt', 'Provider',\n",
    "       'InscClaimAmtReimbursed', 'AttendingPhysician', 'OperatingPhysician',\n",
    "       'OtherPhysician', 'ClmDiagnosisCode_1', 'ClmDiagnosisCode_2',\n",
    "       'ClmDiagnosisCode_3', 'ClmDiagnosisCode_4', 'ClmDiagnosisCode_5',\n",
    "       'ClmDiagnosisCode_6', 'ClmDiagnosisCode_7', 'ClmDiagnosisCode_8',\n",
    "       'ClmDiagnosisCode_9', 'ClmDiagnosisCode_10', 'ClmProcedureCode_1',\n",
    "       'ClmProcedureCode_2', 'ClmProcedureCode_3', 'ClmProcedureCode_4',\n",
    "       'ClmProcedureCode_5', 'ClmProcedureCode_6', 'DeductibleAmtPaid',\n",
    "       'ClmAdmitDiagnosisCode','inpatient']\n",
    "                              ,how='outer')\n",
    "\n",
    "train_alldata=pd.merge(train,train_beneficiary,left_on='BeneID',right_on='BeneID',how='inner')"
   ]
  },
  {
   "cell_type": "code",
   "execution_count": 21,
   "metadata": {},
   "outputs": [
    {
     "name": "stdout",
     "output_type": "stream",
     "text": [
      "(558211, 55)\n"
     ]
    }
   ],
   "source": [
    "print(train_alldata.shape)"
   ]
  },
  {
   "cell_type": "code",
   "execution_count": 22,
   "metadata": {},
   "outputs": [],
   "source": [
    "#Combining test data\n",
    "test_inpatient['inpatient'] = 1\n",
    "test_outpatient['inpatient'] = 0\n",
    "#test = pd.concat([test_inpatient, test_outpatient], axis=0, sort=False)\n",
    "test=pd.merge(test_outpatient,test_inpatient,\n",
    "                              left_on=['BeneID', 'ClaimID', 'ClaimStartDt', 'ClaimEndDt', 'Provider',\n",
    "       'InscClaimAmtReimbursed', 'AttendingPhysician', 'OperatingPhysician',\n",
    "       'OtherPhysician', 'ClmDiagnosisCode_1', 'ClmDiagnosisCode_2',\n",
    "       'ClmDiagnosisCode_3', 'ClmDiagnosisCode_4', 'ClmDiagnosisCode_5',\n",
    "       'ClmDiagnosisCode_6', 'ClmDiagnosisCode_7', 'ClmDiagnosisCode_8',\n",
    "       'ClmDiagnosisCode_9', 'ClmDiagnosisCode_10', 'ClmProcedureCode_1',\n",
    "       'ClmProcedureCode_2', 'ClmProcedureCode_3', 'ClmProcedureCode_4',\n",
    "       'ClmProcedureCode_5', 'ClmProcedureCode_6', 'DeductibleAmtPaid',\n",
    "       'ClmAdmitDiagnosisCode','inpatient'],\n",
    "                              right_on=['BeneID', 'ClaimID', 'ClaimStartDt', 'ClaimEndDt', 'Provider',\n",
    "       'InscClaimAmtReimbursed', 'AttendingPhysician', 'OperatingPhysician',\n",
    "       'OtherPhysician', 'ClmDiagnosisCode_1', 'ClmDiagnosisCode_2',\n",
    "       'ClmDiagnosisCode_3', 'ClmDiagnosisCode_4', 'ClmDiagnosisCode_5',\n",
    "       'ClmDiagnosisCode_6', 'ClmDiagnosisCode_7', 'ClmDiagnosisCode_8',\n",
    "       'ClmDiagnosisCode_9', 'ClmDiagnosisCode_10', 'ClmProcedureCode_1',\n",
    "       'ClmProcedureCode_2', 'ClmProcedureCode_3', 'ClmProcedureCode_4',\n",
    "       'ClmProcedureCode_5', 'ClmProcedureCode_6', 'DeductibleAmtPaid',\n",
    "       'ClmAdmitDiagnosisCode','inpatient']\n",
    "                              ,how='outer')\n",
    "\n",
    "test_alldata=pd.merge(test,test_beneficiary,left_on='BeneID',right_on='BeneID',how='inner')\n"
   ]
  },
  {
   "cell_type": "code",
   "execution_count": 23,
   "metadata": {},
   "outputs": [
    {
     "name": "stdout",
     "output_type": "stream",
     "text": [
      "(135392, 55)\n"
     ]
    }
   ],
   "source": [
    "print(test_alldata.shape)"
   ]
  },
  {
   "cell_type": "code",
   "execution_count": 24,
   "metadata": {},
   "outputs": [],
   "source": [
    "#Merging with Provider\n",
    "train_allprovider=pd.merge(train_label,train_alldata,on='Provider')\n",
    "\n",
    "test_allprovider=pd.merge(test_label,test_alldata,on='Provider')"
   ]
  },
  {
   "cell_type": "code",
   "execution_count": 25,
   "metadata": {},
   "outputs": [],
   "source": [
    "#Removing unecessary columns\n",
    "train_allprovider=train_allprovider.drop(['NoOfMonths_PartACov', 'NoOfMonths_PartBCov', 'State', 'County', 'AttendingPhysician',\n",
    "       'OperatingPhysician', 'OtherPhysician', 'DiagnosisGroupCode'],axis=1)\n",
    "\n",
    "test_allprovider=test_allprovider.drop(['NoOfMonths_PartACov', 'NoOfMonths_PartBCov', 'State', 'County', 'AttendingPhysician',\n",
    "       'OperatingPhysician', 'OtherPhysician', 'DiagnosisGroupCode'],axis=1)"
   ]
  },
  {
   "cell_type": "code",
   "execution_count": 26,
   "metadata": {},
   "outputs": [
    {
     "name": "stdout",
     "output_type": "stream",
     "text": [
      "Index(['Provider', 'PotentialFraud', 'BeneID', 'ClaimID', 'ClaimStartDt',\n",
      "       'ClaimEndDt', 'InscClaimAmtReimbursed', 'ClmDiagnosisCode_1',\n",
      "       'ClmDiagnosisCode_2', 'ClmDiagnosisCode_3', 'ClmDiagnosisCode_4',\n",
      "       'ClmDiagnosisCode_5', 'ClmDiagnosisCode_6', 'ClmDiagnosisCode_7',\n",
      "       'ClmDiagnosisCode_8', 'ClmDiagnosisCode_9', 'ClmDiagnosisCode_10',\n",
      "       'ClmProcedureCode_1', 'ClmProcedureCode_2', 'ClmProcedureCode_3',\n",
      "       'ClmProcedureCode_4', 'ClmProcedureCode_5', 'ClmProcedureCode_6',\n",
      "       'DeductibleAmtPaid', 'ClmAdmitDiagnosisCode', 'inpatient',\n",
      "       'AdmissionDt', 'DischargeDt', 'DOB', 'DOD', 'Gender', 'Race',\n",
      "       'RenalDiseaseIndicator', 'ChronicCond_Alzheimer',\n",
      "       'ChronicCond_Heartfailure', 'ChronicCond_KidneyDisease',\n",
      "       'ChronicCond_Cancer', 'ChronicCond_ObstrPulmonary',\n",
      "       'ChronicCond_Depression', 'ChronicCond_Diabetes',\n",
      "       'ChronicCond_IschemicHeart', 'ChronicCond_Osteoporasis',\n",
      "       'ChronicCond_rheumatoidarthritis', 'ChronicCond_stroke',\n",
      "       'IPAnnualReimbursementAmt', 'IPAnnualDeductibleAmt',\n",
      "       'OPAnnualReimbursementAmt', 'OPAnnualDeductibleAmt'],\n",
      "      dtype='object')\n",
      "(558211, 48)\n"
     ]
    }
   ],
   "source": [
    "print(train_allprovider.columns)\n",
    "print(train_allprovider.shape)"
   ]
  },
  {
   "cell_type": "code",
   "execution_count": 1,
   "metadata": {},
   "outputs": [],
   "source": [
    "\n",
    "#Still have to combine with remaining datasets"
   ]
  },
  {
   "cell_type": "code",
   "execution_count": 10,
   "metadata": {},
   "outputs": [],
   "source": [
    "#Export train and test datasets\n",
    "#train_allprovider.to_csv(\"processed_data/train_all_provider.csv\")\n",
    "#test_allprovider.to_csv(\"processed_data/test_all_provider.csv\")"
   ]
  }
 ],
 "metadata": {
  "kernelspec": {
   "display_name": "Python 3",
   "language": "python",
   "name": "python3"
  },
  "language_info": {
   "codemirror_mode": {
    "name": "ipython",
    "version": 3
   },
   "file_extension": ".py",
   "mimetype": "text/x-python",
   "name": "python",
   "nbconvert_exporter": "python",
   "pygments_lexer": "ipython3",
   "version": "3.10.0"
  },
  "orig_nbformat": 4
 },
 "nbformat": 4,
 "nbformat_minor": 2
}

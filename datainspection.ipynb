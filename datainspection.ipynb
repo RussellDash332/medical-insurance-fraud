{
 "cells": [
  {
   "cell_type": "code",
   "execution_count": 63,
   "metadata": {},
   "outputs": [],
   "source": [
    "import pandas as pd\n",
    "import numpy as np\n",
    "\n",
    "#Import training datasets\n",
    "train_label=pd.read_csv(\"data/fraud_detection_data/Train.csv\")\n",
    "train_beneficiary=pd.read_csv(\"data/fraud_detection_data/Train_Beneficiarydata.csv\")\n",
    "train_inpatient=pd.read_csv(\"data/fraud_detection_data/Train_Inpatientdata.csv\")\n",
    "train_outpatient=pd.read_csv(\"data/fraud_detection_data/Train_Outpatientdata.csv\")\n",
    "\n",
    "#importing testing datasets\n",
    "test_inpatient = pd.read_csv(\"data/fraud_detection_data/Test_Inpatientdata.csv\")\n",
    "test_outpatient = pd.read_csv(\"data/fraud_detection_data/Test_Outpatientdata.csv\")\n",
    "test_beneficiary = pd.read_csv(\"data/fraud_detection_data/Test_Beneficiarydata.csv\")\n",
    "test_label = pd.read_csv(\"data/fraud_detection_data/Test.csv\")"
   ]
  },
  {
   "cell_type": "code",
   "execution_count": 64,
   "metadata": {},
   "outputs": [],
   "source": [
    "##Replacing 2 with 0 for chronic conditions ,that means chroniv condition No is 0 and yes is 1\n",
    "train_beneficiary = train_beneficiary.replace({'ChronicCond_Alzheimer': 2, 'ChronicCond_Heartfailure': 2, 'ChronicCond_KidneyDisease': 2,\n",
    "                           'ChronicCond_Cancer': 2, 'ChronicCond_ObstrPulmonary': 2, 'ChronicCond_Depression': 2, \n",
    "                           'ChronicCond_Diabetes': 2, 'ChronicCond_IschemicHeart': 2, 'ChronicCond_Osteoporasis': 2, \n",
    "                           'ChronicCond_rheumatoidarthritis': 2, 'ChronicCond_stroke': 2 }, 0)\n",
    "\n",
    "train_beneficiary = train_beneficiary.replace({'RenalDiseaseIndicator': 'Y'}, 1)\n",
    "\n",
    "test_beneficiary = test_beneficiary.replace({'ChronicCond_Alzheimer': 2, 'ChronicCond_Heartfailure': 2, 'ChronicCond_KidneyDisease': 2,\n",
    "                           'ChronicCond_Cancer': 2, 'ChronicCond_ObstrPulmonary': 2, 'ChronicCond_Depression': 2, \n",
    "                           'ChronicCond_Diabetes': 2, 'ChronicCond_IschemicHeart': 2, 'ChronicCond_Osteoporasis': 2, \n",
    "                           'ChronicCond_rheumatoidarthritis': 2, 'ChronicCond_stroke': 2 }, 0)\n",
    "\n",
    "test_beneficiary = test_beneficiary.replace({'RenalDiseaseIndicator': 'Y'}, 1)"
   ]
  },
  {
   "cell_type": "code",
   "execution_count": 65,
   "metadata": {},
   "outputs": [],
   "source": [
    "# Combine training datasets \n",
    "train_inpatient['inpatient'] = 1\n",
    "train_outpatient['inpatient'] = 0\n",
    "train=pd.merge(train_outpatient,train_inpatient,\n",
    "                              left_on=['BeneID', 'ClaimID', 'ClaimStartDt', 'ClaimEndDt', 'Provider',\n",
    "       'InscClaimAmtReimbursed', 'AttendingPhysician', 'OperatingPhysician',\n",
    "       'OtherPhysician', 'ClmDiagnosisCode_1', 'ClmDiagnosisCode_2',\n",
    "       'ClmDiagnosisCode_3', 'ClmDiagnosisCode_4', 'ClmDiagnosisCode_5',\n",
    "       'ClmDiagnosisCode_6', 'ClmDiagnosisCode_7', 'ClmDiagnosisCode_8',\n",
    "       'ClmDiagnosisCode_9', 'ClmDiagnosisCode_10', 'ClmProcedureCode_1',\n",
    "       'ClmProcedureCode_2', 'ClmProcedureCode_3', 'ClmProcedureCode_4',\n",
    "       'ClmProcedureCode_5', 'ClmProcedureCode_6', 'DeductibleAmtPaid',\n",
    "       'ClmAdmitDiagnosisCode','inpatient'],\n",
    "                              right_on=['BeneID', 'ClaimID', 'ClaimStartDt', 'ClaimEndDt', 'Provider',\n",
    "       'InscClaimAmtReimbursed', 'AttendingPhysician', 'OperatingPhysician',\n",
    "       'OtherPhysician', 'ClmDiagnosisCode_1', 'ClmDiagnosisCode_2',\n",
    "       'ClmDiagnosisCode_3', 'ClmDiagnosisCode_4', 'ClmDiagnosisCode_5',\n",
    "       'ClmDiagnosisCode_6', 'ClmDiagnosisCode_7', 'ClmDiagnosisCode_8',\n",
    "       'ClmDiagnosisCode_9', 'ClmDiagnosisCode_10', 'ClmProcedureCode_1',\n",
    "       'ClmProcedureCode_2', 'ClmProcedureCode_3', 'ClmProcedureCode_4',\n",
    "       'ClmProcedureCode_5', 'ClmProcedureCode_6', 'DeductibleAmtPaid',\n",
    "       'ClmAdmitDiagnosisCode','inpatient']\n",
    "                              ,how='outer')\n",
    "\n",
    "train_alldata=pd.merge(train,train_beneficiary,left_on='BeneID',right_on='BeneID',how='inner')"
   ]
  },
  {
   "cell_type": "code",
   "execution_count": 66,
   "metadata": {},
   "outputs": [
    {
     "name": "stdout",
     "output_type": "stream",
     "text": [
      "(558211, 55)\n"
     ]
    }
   ],
   "source": [
    "print(train_alldata.shape)"
   ]
  },
  {
   "cell_type": "code",
   "execution_count": 67,
   "metadata": {},
   "outputs": [],
   "source": [
    "#Combining test data\n",
    "test_inpatient['inpatient'] = 1\n",
    "test_outpatient['inpatient'] = 0\n",
    "#test = pd.concat([test_inpatient, test_outpatient], axis=0, sort=False)\n",
    "test=pd.merge(test_outpatient,test_inpatient,\n",
    "                              left_on=['BeneID', 'ClaimID', 'ClaimStartDt', 'ClaimEndDt', 'Provider',\n",
    "       'InscClaimAmtReimbursed', 'AttendingPhysician', 'OperatingPhysician',\n",
    "       'OtherPhysician', 'ClmDiagnosisCode_1', 'ClmDiagnosisCode_2',\n",
    "       'ClmDiagnosisCode_3', 'ClmDiagnosisCode_4', 'ClmDiagnosisCode_5',\n",
    "       'ClmDiagnosisCode_6', 'ClmDiagnosisCode_7', 'ClmDiagnosisCode_8',\n",
    "       'ClmDiagnosisCode_9', 'ClmDiagnosisCode_10', 'ClmProcedureCode_1',\n",
    "       'ClmProcedureCode_2', 'ClmProcedureCode_3', 'ClmProcedureCode_4',\n",
    "       'ClmProcedureCode_5', 'ClmProcedureCode_6', 'DeductibleAmtPaid',\n",
    "       'ClmAdmitDiagnosisCode','inpatient'],\n",
    "                              right_on=['BeneID', 'ClaimID', 'ClaimStartDt', 'ClaimEndDt', 'Provider',\n",
    "       'InscClaimAmtReimbursed', 'AttendingPhysician', 'OperatingPhysician',\n",
    "       'OtherPhysician', 'ClmDiagnosisCode_1', 'ClmDiagnosisCode_2',\n",
    "       'ClmDiagnosisCode_3', 'ClmDiagnosisCode_4', 'ClmDiagnosisCode_5',\n",
    "       'ClmDiagnosisCode_6', 'ClmDiagnosisCode_7', 'ClmDiagnosisCode_8',\n",
    "       'ClmDiagnosisCode_9', 'ClmDiagnosisCode_10', 'ClmProcedureCode_1',\n",
    "       'ClmProcedureCode_2', 'ClmProcedureCode_3', 'ClmProcedureCode_4',\n",
    "       'ClmProcedureCode_5', 'ClmProcedureCode_6', 'DeductibleAmtPaid',\n",
    "       'ClmAdmitDiagnosisCode','inpatient']\n",
    "                              ,how='outer')\n",
    "\n",
    "test_alldata=pd.merge(test,test_beneficiary,left_on='BeneID',right_on='BeneID',how='inner')\n"
   ]
  },
  {
   "cell_type": "code",
   "execution_count": 68,
   "metadata": {},
   "outputs": [
    {
     "name": "stdout",
     "output_type": "stream",
     "text": [
      "(135392, 55)\n"
     ]
    }
   ],
   "source": [
    "print(test_alldata.shape)"
   ]
  },
  {
   "cell_type": "code",
   "execution_count": 69,
   "metadata": {},
   "outputs": [],
   "source": [
    "#Merging with Provider\n",
    "train_allprovider=pd.merge(train_label,train_alldata,on='Provider')\n",
    "\n",
    "test_allprovider=pd.merge(test_label,test_alldata,on='Provider')"
   ]
  },
  {
   "cell_type": "code",
   "execution_count": 70,
   "metadata": {},
   "outputs": [],
   "source": [
    "#Removing unecessary columns\n",
    "train_allprovider=train_allprovider.drop(['NoOfMonths_PartACov', 'NoOfMonths_PartBCov', 'State', 'County', 'AttendingPhysician',\n",
    "       'OperatingPhysician', 'OtherPhysician', 'DiagnosisGroupCode'],axis=1)\n",
    "\n",
    "test_allprovider=test_allprovider.drop(['NoOfMonths_PartACov', 'NoOfMonths_PartBCov', 'State', 'County', 'AttendingPhysician',\n",
    "       'OperatingPhysician', 'OtherPhysician', 'DiagnosisGroupCode'],axis=1)"
   ]
  },
  {
   "cell_type": "code",
   "execution_count": 71,
   "metadata": {},
   "outputs": [
    {
     "name": "stdout",
     "output_type": "stream",
     "text": [
      "Index(['Provider', 'PotentialFraud', 'BeneID', 'ClaimID', 'ClaimStartDt',\n",
      "       'ClaimEndDt', 'InscClaimAmtReimbursed', 'ClmDiagnosisCode_1',\n",
      "       'ClmDiagnosisCode_2', 'ClmDiagnosisCode_3', 'ClmDiagnosisCode_4',\n",
      "       'ClmDiagnosisCode_5', 'ClmDiagnosisCode_6', 'ClmDiagnosisCode_7',\n",
      "       'ClmDiagnosisCode_8', 'ClmDiagnosisCode_9', 'ClmDiagnosisCode_10',\n",
      "       'ClmProcedureCode_1', 'ClmProcedureCode_2', 'ClmProcedureCode_3',\n",
      "       'ClmProcedureCode_4', 'ClmProcedureCode_5', 'ClmProcedureCode_6',\n",
      "       'DeductibleAmtPaid', 'ClmAdmitDiagnosisCode', 'inpatient',\n",
      "       'AdmissionDt', 'DischargeDt', 'DOB', 'DOD', 'Gender', 'Race',\n",
      "       'RenalDiseaseIndicator', 'ChronicCond_Alzheimer',\n",
      "       'ChronicCond_Heartfailure', 'ChronicCond_KidneyDisease',\n",
      "       'ChronicCond_Cancer', 'ChronicCond_ObstrPulmonary',\n",
      "       'ChronicCond_Depression', 'ChronicCond_Diabetes',\n",
      "       'ChronicCond_IschemicHeart', 'ChronicCond_Osteoporasis',\n",
      "       'ChronicCond_rheumatoidarthritis', 'ChronicCond_stroke',\n",
      "       'IPAnnualReimbursementAmt', 'IPAnnualDeductibleAmt',\n",
      "       'OPAnnualReimbursementAmt', 'OPAnnualDeductibleAmt'],\n",
      "      dtype='object')\n",
      "(558211, 48)\n"
     ]
    }
   ],
   "source": [
    "print(train_allprovider.columns)\n",
    "print(train_allprovider.shape)"
   ]
  },
  {
   "cell_type": "code",
   "execution_count": 100,
   "metadata": {},
   "outputs": [],
   "source": [
    "#Read in icd9 data\n",
    "diagnosis=pd.read_csv(\"processed_data/icd9_diagnosis.csv\", dtype={'code': str})\n",
    "\n",
    "procedures=pd.read_csv(\"processed_data/icd9_procedure.csv\", dtype={'code': str})"
   ]
  },
  {
   "cell_type": "code",
   "execution_count": 128,
   "metadata": {},
   "outputs": [],
   "source": [
    "#Adding in dignosis and procedure codes into training dataset\n",
    "\n",
    "# Create a list of columns to process\n",
    "columns_to_process = ['ClmDiagnosisCode_' + str(i) for i in range(1, 11)]\n",
    "\n",
    "# Iterate over the columns and create new columns for descriptions\n",
    "for col in columns_to_process:\n",
    "    # Create a new column name for the description\n",
    "    diagnosisdescription_1 = 'DiagnosisDescription_' + col.split('_')[1]\n",
    "    # Use the 'map' function to map the diagnosis codes to descriptions\n",
    "    train_allprovider[diagnosisdescription_1] = train_allprovider[col].map(diagnosis.set_index('code')['description_5'])\n",
    "    \n",
    "    \n",
    "# Create a list of columns to process\n",
    "columns_to_process2 = ['ClmProcedureCode_' + str(i) for i in range(1, 7)]\n",
    "\n",
    "# Iterate over the columns and create new columns for descriptions\n",
    "for col in columns_to_process2:\n",
    "    # Create a new column name for the description\n",
    "    proceduredescription_1 = 'ProceduresDescription_' + col.split('_')[1]\n",
    "    # Use the 'map' function to map the diagnosis codes to descriptions\n",
    "    train_allprovider[proceduredescription_1] = train_allprovider[col].map(procedures.set_index('code')['description_4'])"
   ]
  },
  {
   "cell_type": "code",
   "execution_count": 127,
   "metadata": {},
   "outputs": [],
   "source": [
    "#Adding in dignosis and procedure codes into test dataset\n",
    "\n",
    "# Iterate over the columns and create new columns for descriptions\n",
    "for col in columns_to_process:\n",
    "    # Create a new column name for the description\n",
    "    diagnosisdescription_1 = 'DiagnosisDescription_' + col.split('_')[1]\n",
    "    # Use the 'map' function to map the diagnosis codes to descriptions\n",
    "    test_allprovider[diagnosisdescription_1] = test_allprovider[col].map(diagnosis.set_index('code')['description_5'])\n",
    "\n",
    "# Iterate over the columns and create new columns for descriptions\n",
    "for col in columns_to_process2:\n",
    "    # Create a new column name for the description\n",
    "    proceduredescription_1 = 'ProceduresDescription_' + col.split('_')[1]\n",
    "    # Use the 'map' function to map the diagnosis codes to descriptions\n",
    "    test_allprovider[proceduredescription_1] = test_allprovider[col].map(procedures.set_index('code')['description_4'])"
   ]
  },
  {
   "cell_type": "code",
   "execution_count": 129,
   "metadata": {},
   "outputs": [
    {
     "name": "stdout",
     "output_type": "stream",
     "text": [
      "0          5953\n",
      "1         78650\n",
      "2          V446\n",
      "3         78964\n",
      "4         29650\n",
      "          ...  \n",
      "558206    72740\n",
      "558207    V1251\n",
      "558208    79022\n",
      "558209    41406\n",
      "558210     7280\n",
      "Name: ClmDiagnosisCode_1, Length: 558211, dtype: object\n"
     ]
    }
   ],
   "source": [
    "print(train_allprovider['ClmDiagnosisCode_1'])"
   ]
  },
  {
   "cell_type": "code",
   "execution_count": 131,
   "metadata": {},
   "outputs": [
    {
     "name": "stdout",
     "output_type": "stream",
     "text": [
      "0                                                       NaN\n",
      "1                                   Chest pain, unspecified\n",
      "2                                                       NaN\n",
      "3                 Abdominal tenderness, left lower quadrant\n",
      "4         Bipolar I disorder, most recent episode (or cu...\n",
      "                                ...                        \n",
      "558206                           Synovial cyst, unspecified\n",
      "558207    Personal history of venous thrombosis and embo...\n",
      "558208               Impaired glucose tolerance test (oral)\n",
      "558209    Coronary atherosclerosis of native coronary ar...\n",
      "558210                                                  NaN\n",
      "Name: DiagnosisDescription_1, Length: 558211, dtype: object\n"
     ]
    }
   ],
   "source": [
    "print(train_allprovider['DiagnosisDescription_1'])"
   ]
  },
  {
   "cell_type": "code",
   "execution_count": 119,
   "metadata": {},
   "outputs": [
    {
     "name": "stdout",
     "output_type": "stream",
     "text": [
      "281115\n",
      "558211\n"
     ]
    }
   ],
   "source": [
    "print(train_allprovider['DiagnosisDescription_1'].isna().sum())\n",
    "print(len(train_allprovider))"
   ]
  },
  {
   "cell_type": "code",
   "execution_count": 77,
   "metadata": {},
   "outputs": [],
   "source": [
    "#Export train and test datasets\n",
    "#train_allprovider.to_csv(\"processed_data/train_all_provider.csv\")\n",
    "#test_allprovider.to_csv(\"processed_data/test_all_provider.csv\")"
   ]
  }
 ],
 "metadata": {
  "kernelspec": {
   "display_name": "Python 3",
   "language": "python",
   "name": "python3"
  },
  "language_info": {
   "codemirror_mode": {
    "name": "ipython",
    "version": 3
   },
   "file_extension": ".py",
   "mimetype": "text/x-python",
   "name": "python",
   "nbconvert_exporter": "python",
   "pygments_lexer": "ipython3",
   "version": "3.10.0"
  },
  "orig_nbformat": 4
 },
 "nbformat": 4,
 "nbformat_minor": 2
}
